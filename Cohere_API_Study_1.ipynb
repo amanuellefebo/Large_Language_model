{
  "nbformat": 4,
  "nbformat_minor": 0,
  "metadata": {
    "colab": {
      "provenance": []
    },
    "kernelspec": {
      "name": "python3",
      "display_name": "Python 3"
    },
    "language_info": {
      "name": "python"
    }
  },
  "cells": [
    {
      "cell_type": "code",
      "execution_count": null,
      "metadata": {
        "id": "lgmhzTkWiJ4l"
      },
      "outputs": [],
      "source": [
        "api_key_coh='----'"
      ]
    },
    {
      "cell_type": "code",
      "source": [
        "import langchain"
      ],
      "metadata": {
        "id": "LjFGfWE0jB6w"
      },
      "execution_count": null,
      "outputs": []
    },
    {
      "cell_type": "code",
      "source": [
        "pip install langchain_cohere"
      ],
      "metadata": {
        "colab": {
          "base_uri": "https://localhost:8080/"
        },
        "collapsed": true,
        "id": "-EM0KuwBjDrI",
        "outputId": "a8b4648d-8f87-48fc-98cf-29059ca6e840"
      },
      "execution_count": null,
      "outputs": [
        {
          "output_type": "stream",
          "name": "stdout",
          "text": [
            "Requirement already satisfied: langchain_cohere in /usr/local/lib/python3.11/dist-packages (0.4.4)\n",
            "Requirement already satisfied: cohere<6.0,>=5.12.0 in /usr/local/lib/python3.11/dist-packages (from langchain_cohere) (5.15.0)\n",
            "Requirement already satisfied: langchain-community<0.4.0,>=0.3.0 in /usr/local/lib/python3.11/dist-packages (from langchain_cohere) (0.3.21)\n",
            "Requirement already satisfied: langchain-core<0.4.0,>=0.3.27 in /usr/local/lib/python3.11/dist-packages (from langchain_cohere) (0.3.51)\n",
            "Requirement already satisfied: pydantic<3,>=2 in /usr/local/lib/python3.11/dist-packages (from langchain_cohere) (2.11.3)\n",
            "Requirement already satisfied: types-pyyaml<7.0.0.0,>=6.0.12.20240917 in /usr/local/lib/python3.11/dist-packages (from langchain_cohere) (6.0.12.20250402)\n",
            "Requirement already satisfied: fastavro<2.0.0,>=1.9.4 in /usr/local/lib/python3.11/dist-packages (from cohere<6.0,>=5.12.0->langchain_cohere) (1.10.0)\n",
            "Requirement already satisfied: httpx>=0.21.2 in /usr/local/lib/python3.11/dist-packages (from cohere<6.0,>=5.12.0->langchain_cohere) (0.28.1)\n",
            "Requirement already satisfied: httpx-sse==0.4.0 in /usr/local/lib/python3.11/dist-packages (from cohere<6.0,>=5.12.0->langchain_cohere) (0.4.0)\n",
            "Requirement already satisfied: pydantic-core<3.0.0,>=2.18.2 in /usr/local/lib/python3.11/dist-packages (from cohere<6.0,>=5.12.0->langchain_cohere) (2.33.1)\n",
            "Requirement already satisfied: requests<3.0.0,>=2.0.0 in /usr/local/lib/python3.11/dist-packages (from cohere<6.0,>=5.12.0->langchain_cohere) (2.32.3)\n",
            "Requirement already satisfied: tokenizers<1,>=0.15 in /usr/local/lib/python3.11/dist-packages (from cohere<6.0,>=5.12.0->langchain_cohere) (0.21.1)\n",
            "Requirement already satisfied: types-requests<3.0.0,>=2.0.0 in /usr/local/lib/python3.11/dist-packages (from cohere<6.0,>=5.12.0->langchain_cohere) (2.32.0.20250328)\n",
            "Requirement already satisfied: typing_extensions>=4.0.0 in /usr/local/lib/python3.11/dist-packages (from cohere<6.0,>=5.12.0->langchain_cohere) (4.13.1)\n",
            "Requirement already satisfied: langchain<1.0.0,>=0.3.23 in /usr/local/lib/python3.11/dist-packages (from langchain-community<0.4.0,>=0.3.0->langchain_cohere) (0.3.23)\n",
            "Requirement already satisfied: SQLAlchemy<3,>=1.4 in /usr/local/lib/python3.11/dist-packages (from langchain-community<0.4.0,>=0.3.0->langchain_cohere) (2.0.40)\n",
            "Requirement already satisfied: PyYAML>=5.3 in /usr/local/lib/python3.11/dist-packages (from langchain-community<0.4.0,>=0.3.0->langchain_cohere) (6.0.2)\n",
            "Requirement already satisfied: aiohttp<4.0.0,>=3.8.3 in /usr/local/lib/python3.11/dist-packages (from langchain-community<0.4.0,>=0.3.0->langchain_cohere) (3.11.15)\n",
            "Requirement already satisfied: tenacity!=8.4.0,<10,>=8.1.0 in /usr/local/lib/python3.11/dist-packages (from langchain-community<0.4.0,>=0.3.0->langchain_cohere) (9.1.2)\n",
            "Requirement already satisfied: dataclasses-json<0.7,>=0.5.7 in /usr/local/lib/python3.11/dist-packages (from langchain-community<0.4.0,>=0.3.0->langchain_cohere) (0.6.7)\n",
            "Requirement already satisfied: pydantic-settings<3.0.0,>=2.4.0 in /usr/local/lib/python3.11/dist-packages (from langchain-community<0.4.0,>=0.3.0->langchain_cohere) (2.8.1)\n",
            "Requirement already satisfied: langsmith<0.4,>=0.1.125 in /usr/local/lib/python3.11/dist-packages (from langchain-community<0.4.0,>=0.3.0->langchain_cohere) (0.3.28)\n",
            "Requirement already satisfied: numpy<3,>=1.26.2 in /usr/local/lib/python3.11/dist-packages (from langchain-community<0.4.0,>=0.3.0->langchain_cohere) (2.0.2)\n",
            "Requirement already satisfied: jsonpatch<2.0,>=1.33 in /usr/local/lib/python3.11/dist-packages (from langchain-core<0.4.0,>=0.3.27->langchain_cohere) (1.33)\n",
            "Requirement already satisfied: packaging<25,>=23.2 in /usr/local/lib/python3.11/dist-packages (from langchain-core<0.4.0,>=0.3.27->langchain_cohere) (24.2)\n",
            "Requirement already satisfied: annotated-types>=0.6.0 in /usr/local/lib/python3.11/dist-packages (from pydantic<3,>=2->langchain_cohere) (0.7.0)\n",
            "Requirement already satisfied: typing-inspection>=0.4.0 in /usr/local/lib/python3.11/dist-packages (from pydantic<3,>=2->langchain_cohere) (0.4.0)\n",
            "Requirement already satisfied: aiohappyeyeballs>=2.3.0 in /usr/local/lib/python3.11/dist-packages (from aiohttp<4.0.0,>=3.8.3->langchain-community<0.4.0,>=0.3.0->langchain_cohere) (2.6.1)\n",
            "Requirement already satisfied: aiosignal>=1.1.2 in /usr/local/lib/python3.11/dist-packages (from aiohttp<4.0.0,>=3.8.3->langchain-community<0.4.0,>=0.3.0->langchain_cohere) (1.3.2)\n",
            "Requirement already satisfied: attrs>=17.3.0 in /usr/local/lib/python3.11/dist-packages (from aiohttp<4.0.0,>=3.8.3->langchain-community<0.4.0,>=0.3.0->langchain_cohere) (25.3.0)\n",
            "Requirement already satisfied: frozenlist>=1.1.1 in /usr/local/lib/python3.11/dist-packages (from aiohttp<4.0.0,>=3.8.3->langchain-community<0.4.0,>=0.3.0->langchain_cohere) (1.5.0)\n",
            "Requirement already satisfied: multidict<7.0,>=4.5 in /usr/local/lib/python3.11/dist-packages (from aiohttp<4.0.0,>=3.8.3->langchain-community<0.4.0,>=0.3.0->langchain_cohere) (6.4.2)\n",
            "Requirement already satisfied: propcache>=0.2.0 in /usr/local/lib/python3.11/dist-packages (from aiohttp<4.0.0,>=3.8.3->langchain-community<0.4.0,>=0.3.0->langchain_cohere) (0.3.1)\n",
            "Requirement already satisfied: yarl<2.0,>=1.17.0 in /usr/local/lib/python3.11/dist-packages (from aiohttp<4.0.0,>=3.8.3->langchain-community<0.4.0,>=0.3.0->langchain_cohere) (1.19.0)\n",
            "Requirement already satisfied: marshmallow<4.0.0,>=3.18.0 in /usr/local/lib/python3.11/dist-packages (from dataclasses-json<0.7,>=0.5.7->langchain-community<0.4.0,>=0.3.0->langchain_cohere) (3.26.1)\n",
            "Requirement already satisfied: typing-inspect<1,>=0.4.0 in /usr/local/lib/python3.11/dist-packages (from dataclasses-json<0.7,>=0.5.7->langchain-community<0.4.0,>=0.3.0->langchain_cohere) (0.9.0)\n",
            "Requirement already satisfied: anyio in /usr/local/lib/python3.11/dist-packages (from httpx>=0.21.2->cohere<6.0,>=5.12.0->langchain_cohere) (4.9.0)\n",
            "Requirement already satisfied: certifi in /usr/local/lib/python3.11/dist-packages (from httpx>=0.21.2->cohere<6.0,>=5.12.0->langchain_cohere) (2025.1.31)\n",
            "Requirement already satisfied: httpcore==1.* in /usr/local/lib/python3.11/dist-packages (from httpx>=0.21.2->cohere<6.0,>=5.12.0->langchain_cohere) (1.0.7)\n",
            "Requirement already satisfied: idna in /usr/local/lib/python3.11/dist-packages (from httpx>=0.21.2->cohere<6.0,>=5.12.0->langchain_cohere) (3.10)\n",
            "Requirement already satisfied: h11<0.15,>=0.13 in /usr/local/lib/python3.11/dist-packages (from httpcore==1.*->httpx>=0.21.2->cohere<6.0,>=5.12.0->langchain_cohere) (0.14.0)\n",
            "Requirement already satisfied: jsonpointer>=1.9 in /usr/local/lib/python3.11/dist-packages (from jsonpatch<2.0,>=1.33->langchain-core<0.4.0,>=0.3.27->langchain_cohere) (3.0.0)\n",
            "Requirement already satisfied: langchain-text-splitters<1.0.0,>=0.3.8 in /usr/local/lib/python3.11/dist-packages (from langchain<1.0.0,>=0.3.23->langchain-community<0.4.0,>=0.3.0->langchain_cohere) (0.3.8)\n",
            "Requirement already satisfied: orjson<4.0.0,>=3.9.14 in /usr/local/lib/python3.11/dist-packages (from langsmith<0.4,>=0.1.125->langchain-community<0.4.0,>=0.3.0->langchain_cohere) (3.10.16)\n",
            "Requirement already satisfied: requests-toolbelt<2.0.0,>=1.0.0 in /usr/local/lib/python3.11/dist-packages (from langsmith<0.4,>=0.1.125->langchain-community<0.4.0,>=0.3.0->langchain_cohere) (1.0.0)\n",
            "Requirement already satisfied: zstandard<0.24.0,>=0.23.0 in /usr/local/lib/python3.11/dist-packages (from langsmith<0.4,>=0.1.125->langchain-community<0.4.0,>=0.3.0->langchain_cohere) (0.23.0)\n",
            "Requirement already satisfied: python-dotenv>=0.21.0 in /usr/local/lib/python3.11/dist-packages (from pydantic-settings<3.0.0,>=2.4.0->langchain-community<0.4.0,>=0.3.0->langchain_cohere) (1.1.0)\n",
            "Requirement already satisfied: charset-normalizer<4,>=2 in /usr/local/lib/python3.11/dist-packages (from requests<3.0.0,>=2.0.0->cohere<6.0,>=5.12.0->langchain_cohere) (3.4.1)\n",
            "Requirement already satisfied: urllib3<3,>=1.21.1 in /usr/local/lib/python3.11/dist-packages (from requests<3.0.0,>=2.0.0->cohere<6.0,>=5.12.0->langchain_cohere) (2.3.0)\n",
            "Requirement already satisfied: greenlet>=1 in /usr/local/lib/python3.11/dist-packages (from SQLAlchemy<3,>=1.4->langchain-community<0.4.0,>=0.3.0->langchain_cohere) (3.1.1)\n",
            "Requirement already satisfied: huggingface-hub<1.0,>=0.16.4 in /usr/local/lib/python3.11/dist-packages (from tokenizers<1,>=0.15->cohere<6.0,>=5.12.0->langchain_cohere) (0.30.2)\n",
            "Requirement already satisfied: filelock in /usr/local/lib/python3.11/dist-packages (from huggingface-hub<1.0,>=0.16.4->tokenizers<1,>=0.15->cohere<6.0,>=5.12.0->langchain_cohere) (3.18.0)\n",
            "Requirement already satisfied: fsspec>=2023.5.0 in /usr/local/lib/python3.11/dist-packages (from huggingface-hub<1.0,>=0.16.4->tokenizers<1,>=0.15->cohere<6.0,>=5.12.0->langchain_cohere) (2025.3.2)\n",
            "Requirement already satisfied: tqdm>=4.42.1 in /usr/local/lib/python3.11/dist-packages (from huggingface-hub<1.0,>=0.16.4->tokenizers<1,>=0.15->cohere<6.0,>=5.12.0->langchain_cohere) (4.67.1)\n",
            "Requirement already satisfied: mypy-extensions>=0.3.0 in /usr/local/lib/python3.11/dist-packages (from typing-inspect<1,>=0.4.0->dataclasses-json<0.7,>=0.5.7->langchain-community<0.4.0,>=0.3.0->langchain_cohere) (1.0.0)\n",
            "Requirement already satisfied: sniffio>=1.1 in /usr/local/lib/python3.11/dist-packages (from anyio->httpx>=0.21.2->cohere<6.0,>=5.12.0->langchain_cohere) (1.3.1)\n"
          ]
        }
      ]
    },
    {
      "cell_type": "code",
      "source": [
        "from getpass import getpass\n",
        "from langchain_cohere.llms import Cohere\n",
        "import os\n",
        "COHERE_API_KEY=getpass()\n",
        "os.environ[\"Cohere_API_TOKEN\"] = api_key_coh\n",
        "#place your Cohere API key after running this cell\n"
      ],
      "metadata": {
        "colab": {
          "base_uri": "https://localhost:8080/"
        },
        "id": "uS555JrsjPQt",
        "outputId": "9755ee4a-8589-4200-d16c-44cb1afb8d9c"
      },
      "execution_count": null,
      "outputs": [
        {
          "name": "stdout",
          "output_type": "stream",
          "text": [
            "··········\n"
          ]
        }
      ]
    },
    {
      "cell_type": "code",
      "source": [
        "#Import an LLM model from LangChain.\n",
        "from langchain.llms import Cohere\n",
        "llm2 = Cohere(cohere_api_key=COHERE_API_KEY)\n"
      ],
      "metadata": {
        "id": "Z5wOFLw5jdeo"
      },
      "execution_count": null,
      "outputs": []
    },
    {
      "cell_type": "code",
      "source": [
        "prompt = \"tell me abt stars\"\n",
        "print(llm2.invoke(prompt))\n"
      ],
      "metadata": {
        "colab": {
          "base_uri": "https://localhost:8080/"
        },
        "id": "6V7pp2tQjkOJ",
        "outputId": "8ee7e19d-831d-4302-e8df-3810ec0494d6"
      },
      "execution_count": null,
      "outputs": [
        {
          "output_type": "stream",
          "name": "stdout",
          "text": [
            " Stars are astronomical objects that emit light and heat. They are formed through a process called stellar nucleosynthesis, which occurs when a giant molecular cloud of gas and dust collapses under its own gravity, ultimately forming a rotating disk of material around a protostar.\n",
            "\n",
            "Here are some key characteristics and features of stars:\n",
            "1. Luminosity: Stars vary greatly in brightness, which is measured in terms of luminosity. There are different categories of stars based on their luminosity, such as main sequence stars, giants, and dwarfs.\n",
            "2. Stellar Life Cycle: The life cycle of a star encompasses various stages, starting with the birth or formation stage, followed by the main sequence stage, and eventually ending with the death or termination stage. The fate of a star depends on its initial mass, with stars having higher mass evolving more rapidly and undergoing brighter endings, such as black holes or neutron stars.\n",
            "3. Fusion Reactions: Stars derive their energy from nuclear fusion reactions within their cores. Specifically, hydrogen nuclei (protons) combine to form helium, releasing tremendous amounts of energy in the process. This energy is manifested as light and heat, enabling stars to shine brightly.\n",
            "4. Spectral Types: Stars exhibit different spectral types based on their surface temperatures,\n"
          ]
        }
      ]
    },
    {
      "cell_type": "code",
      "source": [
        "llm2.invoke(\"The sun rise in the...\")"
      ],
      "metadata": {
        "colab": {
          "base_uri": "https://localhost:8080/",
          "height": 122
        },
        "id": "FkcdCSmojqL4",
        "outputId": "de57cc44-3f24-48c3-adb8-5fd2ca3b7d26"
      },
      "execution_count": null,
      "outputs": [
        {
          "output_type": "execute_result",
          "data": {
            "text/plain": [
              "\" The sun rises in the east direction. The orientation of sunrise and sunset is determined by the orientation of the Earth as it rotates on its axis during the day, and as it orbits around the Sun. \\n\\nThe Earth's rotation on its axis results in the exposure of different parts of the Earth's surface to the Sun's light, causing the cyclic events of sunrise and sunset. As the Earth rotates on its axis from west to east, the specific area of the Earth where an observer is located, will experience the Sun either rising from below the horizon in the east, or setting below the horizon in the west. \\n\\nThis phenomenon happens consistently, as the Earth's rotation keeps the same orientation relative to the Sun, resulting in the constant rising of the Sun in the east, and its subsequent setting in the west. \""
            ],
            "application/vnd.google.colaboratory.intrinsic+json": {
              "type": "string"
            }
          },
          "metadata": {},
          "execution_count": 9
        }
      ]
    },
    {
      "cell_type": "code",
      "source": [
        "prompt ='Try to explain the answer like Einstein, what is 5 plus 5?'\n",
        "llm2.invoke(prompt)"
      ],
      "metadata": {
        "colab": {
          "base_uri": "https://localhost:8080/",
          "height": 87
        },
        "id": "D12W9f7EjuuE",
        "outputId": "aa73f00c-3cf0-4fac-f847-a12a66ddc490"
      },
      "execution_count": null,
      "outputs": [
        {
          "output_type": "execute_result",
          "data": {
            "text/plain": [
              "\" Aarrrgghh…..  Five.. Plus.. Five.. Five.. Plus.. Five. .. It equals.. Fifteen. \\n\\nI know, it is a simple arithmetic and pretty straightforward. But, when you think about it in this manner, it appears genius, thus, resonating the thinking of Einstein. \\n\\nI hope you found my answer enticing. Feel free to ask me any questions about your studies, and I will do my best to help you understand concepts like Einstein!! \\n\\nLet's solve many more problems together!! \""
            ],
            "application/vnd.google.colaboratory.intrinsic+json": {
              "type": "string"
            }
          },
          "metadata": {},
          "execution_count": 10
        }
      ]
    },
    {
      "cell_type": "code",
      "source": [
        "prompt ='Try to explain the answer like normal person, what is 5 plus 5?'\n",
        "llm2.invoke(prompt)"
      ],
      "metadata": {
        "colab": {
          "base_uri": "https://localhost:8080/",
          "height": 139
        },
        "id": "jF4iI8k2kK7Z",
        "outputId": "5de8916f-cf74-47d0-e0e1-fed4d39eb4b4"
      },
      "execution_count": null,
      "outputs": [
        {
          "output_type": "execute_result",
          "data": {
            "text/plain": [
              "' Hi! 5 plus 5 is 10. \\nMost people use numbers and arithmetic in their daily lives for many kinds of tasks like: \\n- Counting objects, like counting money in their wallet, or the number of apples they have in stock in their pantry.\\n- Measuring substances, like when you need to use 1 cup of flour for baking a cake, or you need to add 250 ml of water for the recipe.\\n- Calculating, like calculating your expenses and savings after buying something, or calculating the remaining time to wait for an appointment.\\n\\nIn this case, you asked me \"what is 5 plus 5?\". I will assume you wanted to ask this question because you want to know how adding 5 to 5 works. Adding numbers can be really simple if you know the basics of arithmetic: you take the first number, in this case, 5, and you remember that 5 is less than 10, so you can add another number, 5, to it, and it becomes 10. There, you got it, 5 plus 5 makes 10! \\n\\nI hope that helps! Let me know if you have any further questions. '"
            ],
            "application/vnd.google.colaboratory.intrinsic+json": {
              "type": "string"
            }
          },
          "metadata": {},
          "execution_count": 11
        }
      ]
    },
    {
      "cell_type": "code",
      "source": [
        "llm2=Cohere(cohere_api_key=COHERE_API_KEY)"
      ],
      "metadata": {
        "id": "VbMmLM0mkoJK"
      },
      "execution_count": null,
      "outputs": []
    },
    {
      "cell_type": "code",
      "source": [
        "prompt='write a poem like Eienstein'\n",
        "llm2.invoke(prompt)"
      ],
      "metadata": {
        "colab": {
          "base_uri": "https://localhost:8080/",
          "height": 122
        },
        "id": "anM1URt1lImu",
        "outputId": "6c3448e2-5e78-4018-d5d3-bde8e5353298"
      },
      "execution_count": null,
      "outputs": [
        {
          "output_type": "execute_result",
          "data": {
            "text/plain": [
              "\" Between the lines,\\nThe ink fades away,\\nA lifeless form,\\nBut the soul still stays. \\nFrom start to finish,\\nA story without end,\\nA puzzle to solve,\\nAnd the parts still blend. \\nThe wheels of change,\\nSpin without rest,\\nThe chaos manifests,\\nThen becomes your best. \\nFor battle's alive,\\nAnd the fight's unending,\\nSo rise up and thrive,\\nIn the rhythm of the pen. \\nWithin the words,\\nBoth the heart and mind,\\nAre tangled and bound,\\nTo captivate and unwind. \\nAnd in the depths,\\nWhere thoughts reside,\\nA universe hides,\\nTo charm and confide. \\n\\nThis poem takes inspiration from Einstein's scientific contributions and achievements, which revolutionized our understanding of the universe. It highlights the idea that his work continues to have a profound impact on how we perceive the world, even though he is no longer with us. \""
            ],
            "application/vnd.google.colaboratory.intrinsic+json": {
              "type": "string"
            }
          },
          "metadata": {},
          "execution_count": 26
        }
      ]
    },
    {
      "cell_type": "markdown",
      "source": [
        "# Models\n",
        "Model can be categorized into three\n",
        "1. LLMS\n",
        "2. Chat Model\n",
        "3. Text Embedding Model"
      ],
      "metadata": {
        "id": "gsrJQgIb2WCI"
      }
    },
    {
      "cell_type": "code",
      "source": [
        "Hugging_Face_api_key='----'"
      ],
      "metadata": {
        "id": "W-n4lrKh9t91"
      },
      "execution_count": null,
      "outputs": []
    },
    {
      "cell_type": "code",
      "source": [
        "# first import the API key\n",
        "from getpass import getpass\n",
        "from langchain_community.llms import HuggingFaceHub\n",
        "HUGGINGFACEHUB_API_TOKEN=getpass()\n",
        "os.environ[\"HUGGINGFACEHUB_API_TOKEN\"]=HUGGINGFACEHUB_API_TOKEN\n",
        "# initialize the llm model\n",
        "llm =HuggingFaceHub(repo_id=\"HuggingFaceH4/zephyr-7b-beta\",task='text-generation',model_kwargs={\"max_new_tokens\":100,\"top_k\":30,\"temperature\":0.1,\"repition_penalty\":1})"
      ],
      "metadata": {
        "id": "cvT7nh3klN9x",
        "colab": {
          "base_uri": "https://localhost:8080/"
        },
        "outputId": "319483d0-fac2-469d-a9da-211fc321f7fc"
      },
      "execution_count": null,
      "outputs": [
        {
          "name": "stdout",
          "output_type": "stream",
          "text": [
            "··········\n"
          ]
        }
      ]
    },
    {
      "cell_type": "code",
      "source": [
        "llm(\"write a poem about Eienstien\")"
      ],
      "metadata": {
        "colab": {
          "base_uri": "https://localhost:8080/",
          "height": 125
        },
        "id": "cNGC-QBd8lEV",
        "outputId": "02342d9f-794f-4b9f-f380-b84ff9b6b8a3"
      },
      "execution_count": null,
      "outputs": [
        {
          "output_type": "stream",
          "name": "stderr",
          "text": [
            "/usr/local/lib/python3.11/dist-packages/huggingface_hub/utils/_deprecation.py:131: FutureWarning: 'post' (from 'huggingface_hub.inference._client') is deprecated and will be removed from version '0.31.0'. Making direct POST requests to the inference server is not supported anymore. Please use task methods instead (e.g. `InferenceClient.chat_completion`). If your use case is not supported, please open an issue in https://github.com/huggingface/huggingface_hub.\n",
            "  warnings.warn(warning_message, FutureWarning)\n"
          ]
        },
        {
          "output_type": "execute_result",
          "data": {
            "text/plain": [
              "\"write a poem about Eienstien's theory of relativity\\n\\nEinstein's theory of relativity,\\nA concept that defies our reality,\\nSpace and time, once separate entities,\\nNow intertwined in a cosmic symphony.\\n\\nThe speed of light, a constant divine,\\nA barrier that cannot be crossed,\\nA universe expanding, yet still confined,\\nA paradox that leaves us lost.\\n\\nGravity, a force that bends the fabric,\\n\""
            ],
            "application/vnd.google.colaboratory.intrinsic+json": {
              "type": "string"
            }
          },
          "metadata": {},
          "execution_count": 39
        }
      ]
    },
    {
      "cell_type": "code",
      "source": [
        "# Text Embedding example\n",
        "import cohere\n",
        "co=cohere.Client(api_key_coh)"
      ],
      "metadata": {
        "id": "nby28LVz-bUK"
      },
      "execution_count": null,
      "outputs": []
    },
    {
      "cell_type": "code",
      "source": [
        "response = co.embed(model='embed-english-v2.0',texts=[\"I am Amanuel Lefebo\"])\n",
        "print(response.embeddings)"
      ],
      "metadata": {
        "colab": {
          "base_uri": "https://localhost:8080/"
        },
        "id": "vlnThlFY-60T",
        "outputId": "8790106c-a104-480b-e4f3-b794274625f4"
      },
      "execution_count": null,
      "outputs": [
        {
          "output_type": "stream",
          "name": "stdout",
          "text": [
            "[[2.4492188, -0.08282471, 1.0371094, 0.12243652, 0.060394287, -0.9790039, -1.5996094, -1.0488281, 0.1574707, -0.032409668, -1.7333984, 0.14074707, 1.1943359, -0.1763916, 0.48046875, -0.9189453, -0.5107422, 1.2158203, 1.1308594, -1.5205078, 0.6899414, -0.8852539, 0.60058594, 1.1201172, 1.7783203, 2.4707031, -0.41015625, 1.0390625, -0.7426758, 1.5292969, -1.1728516, -0.9526367, 0.73583984, 1.1552734, 1.6201172, -0.34521484, 0.51660156, -0.8564453, -0.7817383, 1.2998047, 0.20898438, 0.105285645, -0.085754395, 1.2636719, 2.0664062, -0.19592285, -1.4619141, -0.6015625, 1.7490234, -0.15649414, -0.030899048, 0.45361328, 1.0878906, -0.24816895, -0.6015625, -1.1494141, -0.7734375, -1.7802734, -0.73046875, -0.21850586, -0.9404297, 0.90771484, -0.58691406, -1.2011719, 0.37548828, 0.4477539, -1.5205078, -2.34375, 0.09820557, 2.1230469, -0.41918945, -0.70654297, 0.77441406, -1.2490234, 0.6123047, 0.9838867, 1.4609375, 1.1308594, -0.38110352, 2.0449219, 0.2758789, -0.1920166, -1.3740234, 1.1181641, -1.7529297, -0.77197266, 0.8383789, 0.5449219, 0.5341797, 1.2919922, -0.0881958, -0.11242676, -0.3088379, 1.2822266, -0.2841797, -1.6201172, 3.7597656, -0.21618652, -0.80908203, 1.0126953, 0.12878418, -0.1517334, -0.57714844, -1.4677734, 1.9384766, -0.28686523, -1.3994141, 0.13793945, 0.4987793, -1.1025391, -0.2890625, -0.53759766, 0.27685547, 1.5107422, -1.6103516, 2.2167969, -0.63671875, -0.8198242, -0.25, -0.22302246, 0.5073242, 2.109375, 1.4892578, -1.609375, 0.26342773, -0.4165039, -0.9555664, 0.47729492, -2.2714844, 0.14172363, -2.5898438, -0.62060547, -2.9375, 0.609375, 2.9648438, -1.5644531, 1.3613281, 0.65722656, -0.47729492, 0.60302734, -0.55810547, -2.3164062, 0.8569336, -0.82373047, -1.59375, -0.7006836, -2.0683594, 0.8803711, 0.41064453, -3.765625, 0.7373047, -0.71875, 1.9580078, 2.140625, -0.11566162, -1.6337891, 0.34936523, 0.41748047, -3.9902344, 0.35864258, -0.31713867, 0.7084961, 0.017654419, 0.49169922, -0.023849487, 2.015625, -0.084350586, 2.2910156, -2.1484375, 0.50146484, 1.5566406, 0.8598633, 0.18811035, 0.057769775, -0.1932373, -1.546875, -0.8491211, 2.6679688, -0.89941406, -0.28393555, 0.6953125, 0.051208496, -0.09112549, 1.875, 0.54833984, 2.3535156, -0.124816895, 0.9614258, 3.1601562, -0.06137085, -0.4206543, 0.5991211, -0.7944336, -1.7275391, 0.98291016, 0.26879883, -0.65722656, -0.05557251, 4.6796875, -0.60791016, 1.7207031, -0.6088867, -1.3779297, -0.035186768, 1.8339844, 0.1484375, 1.8886719, -0.7319336, 0.11102295, -0.10443115, -1.8925781, -1.9667969, 1.3525391, 0.82666016, -1.0458984, 0.07128906, -0.3125, 1.4160156, 0.44750977, 1.9433594, 0.5053711, -1.7548828, -0.31445312, -1.8310547, -1.3300781, -1.5380859, 2.1035156, 0.33618164, 0.53515625, 1.6005859, -0.7192383, -2.09375, 1.3144531, 1.3232422, 0.15991211, -4.484375, -1.46875, 0.6586914, -1.2441406, 0.31958008, 1.5175781, 3.3085938, -0.94628906, 0.18432617, -0.6279297, 1.0429688, -3.59375, 1.6660156, -0.14294434, 1.375, 1.1660156, 1.4863281, -0.76904297, -0.23120117, -2.4804688, -0.5908203, 2.296875, -0.88916016, 0.74121094, 0.6352539, 0.13684082, 0.097351074, 0.7998047, 1.1113281, 1.7636719, -1.0126953, -1.0761719, -1.2587891, -0.15307617, -2.7675781, 0.60791016, -1.6259766, -4.4960938, -0.028884888, 0.54541016, 0.4663086, 0.24682617, 1.5634766, -1.0302734, 2.3535156, 1.3583984, -1.125, 1.2910156, 0.46362305, 1.6455078, 0.31201172, -0.25805664, -0.7529297, 2.6542969, 1.1923828, 1.0537109, 1.4462891, 0.45874023, -1.6464844, 3.4101562, -0.6567383, 0.97998047, 0.8330078, 0.30004883, -2.9726562, -2.4941406, -2.5097656, 1.5205078, 0.328125, 1.0498047, 0.44677734, -0.4338379, 0.66845703, 3.3339844, -0.41918945, 0.40356445, 0.8754883, -0.40234375, 0.83935547, 1.2255859, 2.3457031, 0.30493164, 0.26831055, -0.3737793, 1.03125, 1.4775391, 0.24023438, 1.2275391, 0.03857422, -0.83496094, -0.5571289, -0.65185547, 1.9765625, -0.64404297, -2.8574219, 0.6875, 0.42578125, 0.10797119, 0.76953125, 0.33276367, 0.18054199, 0.20227051, -1.2080078, -1.3447266, 2.0273438, 2.015625, -2.7910156, -1.2685547, 2.40625, -1.2783203, -2.2441406, -0.5444336, 1.734375, 0.62646484, 0.51220703, 0.10284424, 0.91503906, -0.31079102, -0.17553711, 0.89941406, 1.4736328, 0.9350586, -1.0576172, 0.33911133, -1.2001953, -1.6269531, -1.7099609, 1.6201172, 0.8666992, 0.59716797, -0.38012695, 2.3398438, 1.6347656, 0.0758667, 1.6269531, -0.31567383, -0.43237305, 1.0332031, 1.6376953, 2.2304688, 1.6640625, -0.99365234, 1.0029297, -1.1240234, -3.0722656, 1.2207031, 1.5556641, -0.84228516, -1.0966797, -0.57373047, 0.8569336, -2.1875, -0.37231445, -0.24157715, 0.7397461, 0.95458984, -0.8959961, 0.020431519, 0.14318848, -1.9853516, -2.2480469, 0.37963867, -1.9121094, 1.5292969, -1.8125, 1.1220703, -1.3535156, -1.0966797, -0.2602539, -0.8383789, -2.0039062, -0.11785889, 0.36694336, 1.4248047, -1.1083984, 1.1230469, -0.0029125214, 2.1738281, 0.7109375, -0.33789062, 1.2519531, -3.5976562, 1.9541016, 0.7192383, 0.3322754, 1.0615234, 0.84521484, 1.1748047, -2.0800781, 0.31079102, -0.1550293, 1.7353516, -3.0214844, -0.47436523, 0.4284668, -1.1650391, -3.4414062, -0.32421875, -0.87890625, 2.9179688, -1.3173828, 1.1064453, 0.75097656, -0.25732422, 1.1962891, -0.96435547, -2.53125, -1.1328125, 1.1962891, 0.14086914, 1.03125, 1.0146484, -0.4987793, -0.34179688, 0.33032227, -0.12585449, 1.8222656, -0.43164062, 0.9086914, -1.1972656, -1.2392578, -0.59277344, -0.016036987, 0.5942383, 2.0566406, -1.1767578, 0.38500977, 0.96533203, -0.8149414, 1.8681641, -1.6044922, 0.95996094, 1.2089844, -1.4902344, -1.0644531, -0.7368164, 0.21704102, -0.43359375, 1.1337891, -3.1347656, 0.38134766, 0.55810547, -0.4194336, -2.2871094, -0.82958984, -2.6425781, 0.93847656, 0.49487305, 0.15991211, 0.80371094, -0.32739258, -0.28515625, -0.17004395, -0.4165039, -2.21875, -0.7841797, 0.76464844, 1.3828125, -0.2993164, 0.85791016, -0.49365234, 0.8623047, -2.4375, 0.10638428, 1.203125, 1.5, -0.93066406, -0.6533203, -1.3339844, -0.8623047, -1.1123047, -0.53564453, -1.1425781, -1.1650391, 0.78027344, 0.21984863, -2.1425781, -1.2705078, -0.18359375, -2.4160156, -0.7709961, -0.03277588, -2.34375, -1.3378906, -0.7890625, -0.08190918, -1.4296875, -0.7885742, -0.79833984, -0.7661133, 1.8310547, -1.2011719, -0.46289062, 0.0552063, 0.6904297, 7.8125, -2.4960938, 0.5185547, -1.5917969, 0.3803711, 0.2980957, -1.2167969, -0.87109375, 2.2089844, 1.703125, -0.2668457, -0.70751953, 0.37280273, -1.5527344, 1.1376953, -1.9628906, -1.1748047, 0.13842773, 0.75390625, -0.62939453, -2.0585938, -1.0107422, 0.97998047, -0.5727539, -3.0058594, -1.6386719, -0.9375, 0.012901306, 0.41235352, 0.71435547, -0.6484375, 2.1113281, 0.018478394, -1.9707031, 0.80908203, -1.9638672, -0.07110596, 0.13110352, -0.19250488, -3.0449219, 0.31689453, 0.65966797, -1.4091797, -0.9873047, 2.8398438, -0.35498047, 1.0234375, -1.0537109, 0.06982422, -0.19116211, -1.2607422, 0.9404297, -1.7373047, -0.38354492, 2.140625, 0.95996094, 0.039001465, -1.34375, -0.8227539, 1.1103516, -1.5683594, 1.2548828, -0.5942383, -0.27368164, -1.5830078, -0.34326172, -1.4755859, 0.12005615, 0.6538086, 0.71484375, -0.10925293, 0.30615234, -0.77001953, 0.78759766, 0.73046875, -2.0410156, 0.9975586, -2.2226562, 2.2910156, 1.0917969, 0.66064453, 1.1474609, 1.15625, 0.86816406, 0.67041016, -2.7167969, -0.2536621, -0.13806152, 1.84375, 1.3193359, -0.7060547, 1.203125, -0.5205078, 0.3527832, -0.83691406, -0.3010254, -7.1914062, -0.90625, -1.921875, -1.4160156, 0.44873047, -1.6513672, 4.8554688, 1.6806641, -1.2998047, 1.2919922, -0.17712402, 0.2668457, 0.1348877, 0.7241211, 0.51416016, 0.3996582, -0.59765625, -3.0136719, 0.25854492, -0.92333984, -0.5390625, -0.6196289, -0.42822266, 0.67871094, 1.7978516, -1.0341797, 1.6035156, -0.86376953, 1.3876953, 1.8027344, -0.22814941, -0.60791016, -1.0371094, 1.0439453, -0.07354736, -2.3027344, 0.14111328, 1.2285156, 1.6796875, -0.5961914, -0.43359375, 1.2431641, 1.5458984, -2.0, 0.29736328, -0.51464844, -0.58691406, -0.45263672, 1.0087891, 0.37939453, -0.29516602, -1.0859375, -1.1816406, 0.16320801, 0.36547852, -1.8535156, -1.1943359, 0.34106445, 2.0390625, 0.62402344, 0.86279297, 0.38476562, 0.41455078, 2.6757812, 1.9980469, -2.1503906, -4.8125, 1.7597656, 1.2197266, -0.7993164, -0.6591797, -2.3085938, -1.3837891, -0.52246094, 1.3193359, 1.2363281, 0.5463867, 0.71484375, 0.17700195, -1.1875, 0.017166138, 2.2558594, -1.8876953, -0.16967773, 1.2333984, -1.3349609, -0.43139648, 2.6875, 1.1455078, -1.1962891, -1.6484375, 1.0839844, -2.0292969, -1.1044922, 1.7392578, 1.328125, 1.2197266, -0.83691406, -0.39379883, -1.4443359, -2.8261719, -0.008178711, -1.1083984, 0.8461914, -1.6103516, -2.3535156, -1.9638672, 1.2441406, -2.3007812, 1.2792969, 2.1367188, -0.8125, 0.5576172, 0.27783203, -0.99902344, 0.32641602, 1.3681641, 0.31079102, -0.9165039, 1.2558594, -1.9199219, 0.25952148, -0.23364258, -1.0332031, 0.49829102, 1.0214844, -0.20739746, -1.7910156, -1.9931641, 0.5107422, 1.2724609, -5.3828125, 1.7841797, 0.3803711, -0.6254883, 0.2697754, 1.7910156, 0.68896484, -2.0429688, 1.53125, 0.70166016, -1.6943359, 1.1201172, -0.3618164, 1.9033203, 1.0332031, 2.1835938, 0.2364502, 1.3955078, -0.99316406, -0.87597656, -0.02468872, 3.0429688, -3.0644531, 0.8911133, -1.0917969, -0.019256592, 0.5786133, -2.6523438, -1.4423828, -0.70410156, -0.11035156, -1.421875, 2.7617188, -1.0683594, -1.2177734, -0.7114258, 1.6806641, -0.30078125, -1.8261719, -2.1386719, -2.0078125, 0.11090088, -1.9121094, 2.2382812, -1.0751953, -0.35986328, 0.38793945, -0.88916016, -3.1679688, -1.1279297, -0.63720703, -1.4511719, -0.9760742, -0.43774414, -0.27490234, -1.6083984, -0.6069336, -1.1943359, 1.1533203, -0.11193848, 0.8510742, -1.5371094, -0.19726562, 0.86816406, 1.6386719, -1.5908203, 0.34350586, 0.28051758, -0.33374023, -2.2949219, 0.5205078, -0.5419922, 0.36669922, -1.1181641, 0.5751953, 0.4831543, 0.72802734, 0.8125, 0.25585938, 0.98535156, -5.7265625, 2.0488281, 0.48095703, 0.020431519, 2.4667969, -1.1542969, -1.7998047, 0.39135742, 1.7978516, 1.4277344, 1.0214844, -1.5292969, -1.0478516, 2.5742188, -0.3635254, -0.76708984, -0.20397949, -0.17956543, -1.3847656, 1.1220703, 0.40063477, -2.1289062, 1.4355469, 2.1035156, -2.40625, -1.84375, -1.0273438, -1.3955078, -1.1337891, -1.4912109, 0.25756836, 0.4020996, 1.4541016, 0.3322754, 1.6230469, -0.68896484, 2.6425781, -0.090270996, -0.5991211, 0.5395508, -0.25952148, 0.067993164, -1.2587891, 1.21875, 1.6591797, -0.39794922, 1.8291016, 1.1796875, -1.9150391, 1.5576172, -0.4206543, -0.49975586, 0.83935547, -2.0175781, -0.4946289, -1.734375, 0.87402344, 1.3662109, 2.21875, 0.36157227, -0.17980957, 1.9980469, 6.0234375, -0.029083252, 2.1484375, -2.2167969, 0.8803711, -0.6381836, 1.5576172, -1.0234375, -0.8388672, 0.73876953, 2.3886719, 1.1240234, 0.25024414, -1.0371094, -0.64501953, 1.0898438, 0.48364258, 1.2431641, 0.9423828, -0.70410156, 0.22595215, -0.39257812, -1.4033203, -2.1582031, 0.08074951, -0.9140625, -1.6386719, -1.6396484, 0.16638184, -1.7949219, -0.47192383, 0.87158203, 0.8852539, -1.6230469, 1.4140625, 0.71435547, 1.0351562, 0.30908203, 0.8413086, 0.07293701, 0.3244629, 0.08105469, 2.6523438, 0.44873047, 2.9628906, 0.36938477, -1.3212891, 3.1523438, 0.4465332, -0.45141602, 0.203125, -1.8984375, -1.0371094, -0.003522873, -1.7636719, -0.6254883, -1.7265625, 1.3564453, -1.5302734, 1.0292969, -1.25, -0.4645996, 0.62597656, 0.1439209, 0.45532227, -2.0175781, -6.0351562, 0.43774414, 0.8618164, 1.0214844, -1.2568359, 6.8125, -0.43896484, 0.13793945, 0.69970703, 1.4667969, -1.8642578, 1.7919922, 0.026153564, 1.8916016, 0.48046875, -0.72216797, 1.5888672, 1.3046875, -0.9291992, -1.0126953, 0.70947266, 3.0175781, -0.53759766, -1.0136719, -0.029953003, 0.9321289, 2.3886719, -1.9306641, -1.1962891, -1.3798828, -2.2636719, -0.38232422, -0.61035156, -1.6923828, -0.5727539, -1.7880859, 2.1386719, 2.609375, -0.80908203, -1.7587891, 1.3935547, 1.0458984, -1.8652344, 1.8359375, 1.6298828, -0.98876953, 1.0976562, -0.09637451, -0.26464844, 3.3476562, 2.4941406, 0.16906738, 0.43969727, -0.5292969, 1.1123047, 1.5292969, 0.47631836, -0.3959961, -0.9296875, 2.0292969, 0.65527344, 0.20178223, 0.43481445, 1.2197266, 0.33447266, 0.6279297, 0.17407227, 1.7011719, 1.0507812, -1.5, -0.2265625, -0.41796875, 1.3544922, 0.34179688, 1.1103516, 0.80908203, 1.4042969, -1.2275391, 1.1308594, 1.6542969, 0.796875, -2.5195312, 0.89404297, -0.5336914, 0.29760742, 0.9194336, 0.12756348, -0.14038086, 1.609375, 2.75, -0.47631836, 0.69384766, -2.0292969, 1.4628906, 1.0195312, -0.98779297, -1.6455078, 1.8505859, -2.796875, -1.1425781, -1.5419922, 0.9135742, -0.24975586, -1.9628906, 0.91064453, 0.34692383, 0.40356445, 2.84375, 1.1640625, 1.703125, -0.3461914, 0.58203125, -0.037902832, -0.34692383, 0.5307617, -2.1816406, -0.46606445, -1.8525391, 1.5458984, 0.6459961, 0.20214844, 1.8417969, -1.7060547, -1.4980469, 0.52001953, 1.0732422, -0.062194824, -0.4724121, 0.57470703, 2.1503906, 1.421875, 0.15856934, 0.22668457, -0.0008368492, 0.45825195, -0.6279297, -0.4885254, 0.4765625, 1.9375, -0.47729492, -0.79345703, 0.3227539, 0.26660156, -0.6196289, -0.8701172, 0.59228516, 0.3527832, 0.41357422, 2.515625, 1.1669922, -0.07312012, 1.8232422, -1.6152344, -0.8491211, 2.5410156, 1.2255859, 1.2626953, -0.97216797, 1.6230469, -1.4580078, -2.6914062, 2.4804688, -0.31958008, -0.30297852, -0.047424316, 0.23571777, 1.4833984, -0.96777344, -0.49926758, -0.65966797, 0.25463867, 2.5410156, 0.89941406, 1.2910156, -1.6542969, -2.3808594, 1.2001953, 0.82910156, -0.7426758, 1.1572266, 1.2802734, -0.5053711, 0.24536133, -2.8632812, 0.48217773, 0.8461914, -1.2548828, -0.7631836, 1.4707031, 1.6689453, 1.3232422, 0.796875, -0.16027832, 2.0117188, -3.9433594, -2.2617188, 0.07952881, 0.63623047, -1.9355469, 0.93310547, -1.0908203, 0.87841797, -1.71875, 1.2675781, -0.1439209, -1.0478516, -2.2636719, -0.056427002, -0.081604004, -1.6171875, -0.46362305, -0.21069336, -0.33764648, 0.2626953, 0.37304688, 0.037384033, -1.1494141, 0.3479004, -0.9609375, -0.6274414, 0.2524414, 0.03277588, 1.9667969, 0.93115234, -1.7128906, 0.63134766, -0.83251953, 1.265625, 0.38085938, 2.5, -0.79589844, -0.07531738, 0.66015625, 0.32788086, 2.2070312, -2.5976562, -0.34057617, -0.4020996, -0.022201538, 0.5649414, 0.24621582, 0.75, -0.7319336, -1.8066406, -0.022247314, -0.7915039, -0.12658691, 2.2480469, -2.7304688, -1.2236328, 1.3310547, 0.30932617, 0.72558594, 3.1425781, -0.88671875, 0.625, -0.56347656, -0.40454102, -0.5541992, 1.8964844, -1.4130859, -0.7060547, 0.120666504, -0.56933594, 0.48876953, -0.12817383, -1.9941406, -0.1463623, -0.49975586, -1.3173828, -2.25, -0.10144043, -1.0273438, -0.06994629, 0.58154297, -0.91503906, 0.80810547, 1.3583984, -3.0644531, 1.4140625, 0.38671875, -2.7949219, 1.1376953, 0.47998047, -2.0195312, 0.7504883, -0.4921875, 0.27124023, -1.8369141, 0.87060547, -2.4648438, 0.9790039, -0.6977539, 1.1669922, 0.39794922, -0.8154297, -2.1601562, 0.6513672, -0.84228516, -1.2041016, -0.60302734, 1.8935547, -0.10797119, 0.18481445, 0.87597656, 0.34692383, 0.40893555, -1.7480469, 0.15905762, -3.03125, -0.26953125, 1.2373047, 1.2314453, 0.06817627, -0.17944336, -1.5693359, 5.4726562, 0.24475098, -0.61621094, -1.5615234, -0.5913086, 1.0302734, 0.18261719, 3.9003906, 1.2978516, 0.21887207, -0.121520996, -0.61035156, 1.7451172, 0.88134766, -1.671875, 1.7451172, 1.0849609, 0.3696289, 0.44360352, 0.7963867, -0.64941406, -2.2851562, 0.5439453, -0.20568848, -1.1396484, 1.2099609, -0.5185547, -0.19372559, -1.0048828, -0.30273438, 0.27148438, -0.83251953, -0.21057129, 0.2631836, 0.9614258, -0.9580078, -0.06945801, -0.5336914, -0.51708984, 1.1796875, -0.31640625, 0.43774414, 0.87109375, 1.6435547, 1.875, 0.4765625, -0.8774414, -2.6132812, 4.78125, 1.0800781, 2.0996094, -0.74560547, 0.085754395, 0.4387207, 2.0839844, -0.47265625, 1.1455078, -0.9296875, 0.4243164, 4.4375, 1.4033203, 0.14245605, -0.45581055, -3.0625, -2.8417969, 2.1503906, -0.69433594, 0.5229492, 2.6191406, 1.1513672, 2.1347656, 1.921875, -1.0410156, 0.7573242, 0.54052734, 0.78222656, 0.35888672, 0.68603516, 1.28125, -1.3369141, 0.8935547, 0.10058594, 0.45703125, 0.14868164, 1.6425781, -0.56689453, 0.5576172, 0.20788574, -1.3125, 1.2910156, 0.82421875, -1.9560547, -1.484375, 1.2939453, -2.5253906, -0.5415039, -1.4697266, 1.2412109, -0.32373047, 2.0332031, -1.2607422, -2.2226562, 0.30688477, 2.078125, -2.4472656, 0.38232422, -0.90185547, -0.57373047, -0.8125, 0.4309082, 0.1953125, 0.94628906, -0.08514404, 0.78564453, -0.93652344, -1.8291016, -2.5800781, 0.98046875, 0.17797852, -0.36938477, -0.83496094, 2.1972656, -0.010147095, 1.4863281, 2.4648438, -0.16601562, -0.8569336, -0.79052734, -0.6010742, -0.8569336, 2.3476562, 0.859375, -0.53027344, 1.9228516, 0.30297852, -0.6513672, -0.8725586, -0.092285156, 0.9194336, 2.2519531, -1.3779297, 2.2851562, 0.55810547, -0.23962402, -1.8486328, 0.6904297, -2.8535156, -3.4179688, -0.10058594, -1.1787109, 1.1699219, -0.52490234, -1.2548828, 0.66308594, 1.0371094, 0.31225586, 0.38842773, 2.0917969, 1.5205078, -1.7998047, 0.80810547, -0.97314453, -0.8256836, -0.8125, 0.7661133, -0.82177734, 0.73339844, 0.07727051, 0.71777344, 0.61376953, -0.27905273, -0.44360352, -1.1591797, 0.7553711, 0.33251953, 0.011054993, -1.4833984, -0.57128906, -2.3535156, 1.3837891, -2.2480469, -0.86621094, -0.021896362, -0.27929688, -1.6103516, 1.2060547, 0.6508789, -1.1855469, -1.9003906, -2.2324219, 1.4609375, 2.2792969, -0.59814453, -0.86621094, 3.3808594, 0.48388672, 0.78759766, -0.12866211, 0.1529541, -0.25756836, -0.92871094, -2.8632812, -1.8642578, -0.19934082, 0.25, 0.042541504, 0.2841797, -0.5708008, -0.27685547, 1.1201172, -0.77001953, -2.8105469, 0.46899414, 0.39892578, -0.45141602, 0.07977295, 1.6103516, 1.4462891, 2.2128906, -1.1123047, 2.1660156, -0.3178711, 0.16210938, 0.40698242, -4.1210938, 1.4189453, 2.640625, 3.4707031, -0.98291016, -0.9692383, 1.4248047, 0.05545044, -1.328125, -1.9736328, -2.2519531, 0.14953613, 0.55566406, -1.9199219, 0.32543945, -2.0507812, 1.5683594, -1.6894531, -0.38427734, -0.72021484, 0.49169922, 1.0537109, -0.03704834, -0.046875, 1.2236328, 0.6850586, -0.101989746, -0.5517578, 0.48388672, -0.3359375, -0.93310547, -1.3564453, -1.7392578, 1.0292969, 0.44995117, -2.3398438, -0.625, -1.3144531, -0.74316406, -1.3701172, -1.0058594, -0.4177246, -0.9165039, 1.7832031, 0.49267578, 2.125, -0.40625, -0.83935547, 0.22143555, 2.3242188, 1.5263672, 0.09484863, 0.1796875, -1.2392578, 0.90185547, -0.27807617, 0.28710938, -1.6591797, 0.39038086, -0.8051758, -2.65625, 1.9765625, 1.0302734, 2.25, 1.3310547, 1.828125, 1.0175781, -2.2714844, -1.1152344, 0.37768555, 2.1582031, -0.50439453, -0.49926758, 2.0292969, -0.08099365, -2.5449219, -1.8232422, 1.9765625, 1.34375, 1.2099609, 0.359375, -2.3457031, -1.2236328, -1.2548828, -1.4736328, -1.4599609, 1.6425781, -0.34594727, 1.0361328, -2.3574219, -1.6328125, -2.84375, -0.7602539, -0.94091797, 1.015625, -0.71533203, -0.95410156, -1.2832031, 0.8227539, -1.0517578, -2.3691406, -1.0380859, 2.0566406, 0.30688477, -2.3925781, 1.3544922, 1.0126953, -1.5683594, -2.4433594, 0.33642578, -2.0058594, -1.0966797, -1.4296875, 0.42163086, -1.4189453, -0.29760742, 2.8125, -1.4707031, 1.3330078, 2.8144531, 1.5400391, 1.6171875, 0.8364258, 1.9697266, -0.054626465, -0.64697266, 0.6953125, -0.49047852, 1.5439453, 0.31054688, -1.9082031, 1.5673828, -2.4335938, -1.1513672, -1.1005859, 2.9589844, -0.37304688, 3.0527344, -1.8330078, -0.42333984, -0.6689453, -0.5678711, -0.5102539, 1.8994141, -0.52783203, 1.4736328, -0.004386902, -0.421875, 1.1123047, -0.83496094, 0.8071289, 1.3613281, -0.8701172, -0.050079346, 0.08758545, -0.15197754, 1.1582031, -1.5302734, 1.2910156, -3.7871094, -0.6899414, -0.33081055, -1.1777344, 0.20812988, 0.2770996, -0.54003906, -2.1445312, 0.89697266, 1.9082031, -2.796875, -0.118774414, 0.7163086, 0.24926758, -0.3269043, 0.7890625, 0.12219238, -0.5410156, -1.3691406, 0.41333008, -0.26171875, -0.012611389, 0.67089844, 0.4453125, 0.7651367, 1.3369141, 0.3815918, 1.9111328, 0.28881836, 0.44921875, 1.1796875, -1.6865234, -0.4008789, -0.73583984, -1.6865234, 1.15625, -1.4306641, -1.4736328, -1.4404297, -0.54052734, -1.6494141, 0.20935059, -0.48779297, -0.13012695, -2.1503906, -0.47192383, -0.15563965, 0.06842041, -0.18151855, -1.1630859, 0.65527344, -0.7885742, 0.32739258, 0.1472168, 0.51953125, -2.1835938, -1.9931641, -1.7480469, -1.1923828, 0.3762207, -3.46875, -4.7773438, -0.57666016, 0.33203125, -2.3105469, 0.50927734, -1.4384766, 1.7636719, 0.27954102, -0.14819336, -1.4443359, 1.7197266, -0.12854004, -0.7626953, -0.9716797, 0.26953125, 0.55078125, 0.71875, 0.069885254, 1.7548828, 1.1640625, -0.33007812, -1.6904297, 1.6962891, 0.87109375, 1.0566406, -0.8881836, -1.8525391, 3.1582031, -1.2167969, -1.5341797, -1.7011719, 1.9638672, 1.625, -2.2480469, -2.0117188, -0.18908691, -0.20019531, -2.4882812, 2.7089844, 0.56884766, 0.54003906, -0.06298828, -0.21179199, 0.6459961, 0.93847656, -0.88623047, -1.7919922, 1.0537109, -0.47875977, -0.31689453, -0.7470703, 1.6162109, 2.8691406, 0.72216797, 0.5209961, 0.92822266, 1.6318359, 1.7050781, 0.8354492, -0.9038086, 0.8388672, -2.1132812, 0.52978516, -0.15698242, 2.8886719, -1.2792969, -1.4667969, -0.16918945, 0.3334961, 0.028213501, -0.9399414, -1.4707031, 0.32421875, -0.86035156, 0.0036964417, -0.73828125, 1.0771484, -1.5996094, 0.3322754, 1.8828125, -0.6430664, -1.0292969, -0.7836914, 2.9375, -0.4333496, 0.26733398, -0.57714844, 3.2949219, -0.2166748, -0.13391113, 0.8779297, -0.53808594, -2.4160156, -3.1894531, 0.1817627, 1.1123047, 0.15625, -2.2109375, 0.24902344, -0.7939453, 1.15625, -0.03930664, 0.15063477, 0.16345215, -2.1464844, 0.36938477, -0.4465332, -0.87939453, 1.2265625, 2.9433594, -1.3603516, 0.43017578, -3.1425781, -2.1738281, 0.5498047, 0.78271484, 0.8149414, -1.1025391, 0.8256836, -0.0892334, 0.890625, -0.77001953, 0.7866211, -0.31640625, 1.1591797, -1.1630859, -1.7724609, -1.0595703, 0.07647705, -0.82373047, 0.6586914, -2.1816406, -0.37231445, -0.7734375, 1.3564453, 1.0029297, 0.33007812, -0.69140625, 0.66015625, 1.3222656, 0.08770752, -0.56689453, -1.4511719, -2.8164062, -0.80859375, -0.0049705505, -2.0644531, 2.1054688, 0.40576172, 0.19702148, -2.90625, 2.2324219, -0.13195801, 1.3486328, -1.1767578, 0.96435547, -0.1394043, 0.4272461, 0.16040039, 0.9350586, -2.609375, 0.9873047, -1.1855469, -1.3984375, -0.41674805, -3.125, -1.0068359, 0.9848633, -1.9628906, -0.4350586, -0.82958984, -1.0634766, 0.83496094, -0.75, 0.85302734, 0.17480469, 1.5244141, 1.9667969, -0.045440674, -0.18945312, 0.36572266, 0.19372559, 0.82177734, 0.9892578, 0.74365234, 0.7963867, -1.0693359, 0.5776367, 0.17675781, 2.1113281, -0.50683594, -0.53027344, 1.1552734, 2.53125, -0.7705078, -3.1191406, -0.52441406, -1.7470703, -0.98779297, 0.29174805, 0.74560547, 0.12164307, 1.2314453, 2.0273438, 0.08117676, -1.1132812, -2.9550781, 0.05355835, 0.83203125, 1.8349609, -0.09893799, 1.296875, -0.6435547, 2.34375, -0.37548828, 0.22814941, 2.6875, 1.7861328, -1.7919922, 0.5258789, -1.0957031, 0.32543945, -0.26513672, 0.50341797, -1.0761719, -1.734375, -0.43115234, 2.5488281, -2.3808594, -0.9379883, 0.9609375, -0.37060547, -1.1503906, -2.4316406, -0.7963867, -0.92822266, -0.2614746, 0.5571289, 0.79345703, 2.2226562, -0.7138672, -0.5336914, 0.75878906, -2.3710938, -1.6083984, 0.87597656, 1.1142578, -0.15014648, -0.56933594, 0.3371582, 0.79345703, -1.6230469, -0.91015625, -0.54785156, 0.70166016, -1.0751953, 0.87597656, 0.1862793, -0.6850586, 0.29296875, 0.2277832, 0.99658203, 0.2734375, 1.7841797, 1.1621094, 0.7866211, -0.5258789, -1.5966797, -1.6123047, 0.6586914, 0.81640625, 0.8696289, -0.7060547, 1.5761719, 3.2363281, -0.6743164, 0.13195801, -1.3955078, 0.54785156, 0.47216797, 0.47265625, -1.0009766, -2.1601562, 0.47216797, -0.19958496, 3.0488281, -1.9130859, -1.4980469, -0.6064453, -2.8242188, -0.33618164, -1.1162109, -1.8095703, -0.9345703, -0.32592773, -0.45458984, -0.9638672, 0.46557617, -0.107421875, -2.2636719, 0.38793945, -2.6308594, -1.8886719, 1.8798828, 1.4238281, 0.5263672, 0.87060547, -1.6181641, -0.5522461, -0.93066406, 1.2011719, 0.4152832, 0.089782715, -0.57910156, -1.9130859, -1.78125, 1.3808594, 0.4855957, 0.23303223, 2.2285156, 0.75439453, 0.72753906, 2.3847656, 0.010063171, 0.15515137, -1.46875, 2.1601562, 2.0292969, -0.31396484, 0.13452148, -0.6430664, -1.1464844, -2.53125, -0.19726562, 0.55126953, -3.7871094, -2.9433594, 2.0253906, 1.9003906, -0.6010742, -1.7548828, -0.9921875, -0.96435547, 1.7587891, 1.8300781, -0.5859375, -3.109375, 1.0380859, 2.6269531, 1.0849609, 0.30419922, 1.6875, 1.2753906, -0.0030174255, -1.1318359, -1.1015625, 0.21777344, -0.6875, -1.9638672, -0.6513672, -0.7236328, 1.1318359, 0.9291992, -0.66259766, -0.15991211, 1.1103516, -3.0527344, -1.1582031, 0.5336914, 1.5205078, -2.5136719, -0.5058594, -2.0371094, -1.0361328, 1.9482422, -2.1269531, 0.38110352, 0.265625, -0.30981445, -2.4589844, -2.0332031, 0.60546875, -0.7993164, -1.234375, 0.2878418, 0.3503418, 1.2636719, -0.19763184, -1.1171875, 0.8720703, -0.17663574, -2.2441406, -2.0664062, 1.3251953, -1.2607422, -1.9794922, 0.03982544, 0.76660156, 0.5288086, 2.0410156, 2.71875, 2.0605469, -1.6113281, -2.265625, -1.3662109, -0.068237305, 0.16821289, 0.21069336, 4.0898438, -0.19555664, -0.72509766, 1.7480469, -1.5449219, -2.28125, 1.1015625, -0.009941101, 1.0927734, -1.5625, 0.52197266, 0.62841797, 1.5302734, 0.8989258, 1.0449219, 0.78808594, -0.70458984, 0.23327637, 3.7070312, -0.18884277, -1.3066406, 1.3466797, -1.7011719, -0.1817627, 1.0107422, -0.63916016, -0.6123047, -0.72021484, 1.1240234, 3.625, 2.4355469, -0.41088867, -2.0507812, 0.7758789, 0.04248047, 1.4199219, 1.0908203, -1.2119141, 0.19042969, -1.5576172, 0.5307617, 1.5595703, 0.22961426, 2.1992188, 1.3134766, 1.3603516, -0.101989746, 1.3212891, -0.5649414, 1.1933594, 0.4663086, -0.8442383, -1.2001953, 1.6152344, 0.41992188, -1.6972656, 0.6508789, -3.546875, 0.85546875, 0.33642578, -1.2490234, -2.984375, -0.9814453, -2.3183594, -0.6484375, -0.3256836, -2.8027344, 1.2138672, -1.4111328, 0.06695557, 1.3984375, 1.5605469, 0.26489258, 1.8359375, 2.6757812, -0.26220703, 0.9633789, 0.87158203, -0.41845703, -0.40185547, 0.6166992, 1.6181641, 1.5419922, -0.12164307, -0.8696289, -1.9140625, -1.5009766, -0.7265625, 1.8359375, -1.3671875, 0.34545898, -0.11755371, -0.4477539, -0.91015625, 0.50927734, -0.5654297, 1.6591797, -1.3886719, -1.4980469, -1.046875, 2.2207031, 1.4785156, 1.2236328, -0.79541016, 1.1621094, 0.62109375, 0.3762207, -0.18652344, -0.25, -1.6845703, 5.5429688, 1.0673828, -1.5058594, 1.1376953, -0.85595703, 0.0050239563, -1.1513672, -3.4238281, -1.2128906, -0.9423828, 0.0058288574, 0.3918457, 1.1171875, 1.7421875, 0.9140625, 0.5732422, -0.018417358, -0.375, 1.0673828, -1.5400391, 4.2109375, 0.89697266, 2.4550781, -2.1523438, -1.1894531, 0.20324707, 2.1757812, -0.24023438, -1.1289062, -0.32983398, 3.1132812, 2.0566406, 1.6416016, -0.7607422, -0.09814453, 0.0043258667, 0.16003418, -2.0039062, 1.4589844, -3.6972656, -0.5180664, -0.56591797, -0.69140625, -0.20117188, -2.3945312, 1.7480469, 0.38671875, 2.2871094, -1.9365234, -0.23706055, -2.6230469, 0.47851562, 0.9838867, -0.01637268, 0.22131348, -1.4042969, 2.3222656, -1.8134766, -1.1582031, 2.578125, -0.96191406, 1.1103516, 1.0869141, -1.1572266, 0.6850586, 5.1875, 1.8798828, -0.61035156, 1.3720703, 0.60009766, 0.03781128, -0.2800293, -0.4572754, -1.3623047, -1.0292969, -1.1943359, 1.2783203, -1.7480469, -1.3291016, -0.99316406, 2.0898438, 0.54248047, 0.22302246, -0.07208252, 0.15148926, 1.8095703, 0.8725586, 1.0976562, 1.5361328, 2.6464844, 0.37963867, -0.4099121, 0.11755371, 1.1455078, 0.53027344, -0.20483398, -1.5761719, 0.62353516, 0.32763672, 0.21813965, -0.8051758, 2.5117188, -0.8076172, -0.8486328, -0.15844727, 0.41674805, -1.6748047, -2.0175781, -0.14135742, -0.47875977, 1.3769531, -1.1240234, -0.43017578, -0.3256836, 0.32348633, -0.5493164, -0.45874023, 0.06573486, 1.0488281, -0.55371094, -0.89746094, 1.421875, -1.453125, -2.7539062, 1.0253906, 0.9350586, -0.26708984, -0.96875, 0.19628906, -0.33374023, 0.9970703, -0.34521484, 0.8876953, -1.0048828, -0.7504883, 1.0439453, -0.15722656, -1.1669922, -1.5849609, -1.1123047, 0.25219727, 0.28955078, 0.57373047, 1.3349609, -0.31762695, -0.25561523, 1.8300781, 1.0283203, 0.058044434, -1.3261719, -0.20007324, -2.0742188, -0.4086914, 0.9819336, 0.96191406, 0.45043945, 0.50146484, 1.0927734, 0.640625, 1.6650391, 0.6064453, 2.3417969, 0.39404297, -0.6020508, 1.0390625, 0.25146484, 0.17578125, 1.0605469, 0.60546875, 2.5585938, -0.41918945, 2.8066406, 0.4819336, -1.7558594, -0.47387695, 1.1484375, -1.0166016, 1.671875, 1.546875, 0.6767578, 0.4958496, 1.1894531, -0.035095215, -0.010948181, -0.6713867, 2.0585938, 0.69628906, 0.048614502, -0.38500977, -2.1582031, -0.6040039, 0.61816406, -0.03933716, 0.36108398, 0.14648438, -1.1796875, -0.48291016, -1.8603516, 0.74316406, 0.79541016, 0.39770508, 1.5322266, 0.7734375, 2.2675781, 2.0820312, 1.4052734, -0.7475586, 0.7998047, 0.6010742, 0.27026367, -0.62939453, -0.35424805, -0.6352539, -1.9990234, -0.49609375, -1.4111328, 0.75927734, 0.39013672, 0.21276855, 0.36791992, -1.3251953, 1.4863281, 0.02810669, -2.1503906, 0.86279297, -1.1416016, -2.2578125, -0.7973633, 0.35888672, 0.14318848, -0.71435547, -2.2226562, -0.46484375, 0.32788086, -2.2519531, -0.11859131, 0.45532227, 1.5615234, 1.7099609, -1.2919922, -1.03125, -0.57373047, 0.73876953, 2.6894531, -0.83447266, 1.1044922, -1.3798828, 1.3974609, -0.6044922, 1.09375, 0.23913574, -1.0791016, 2.3457031, -1.6699219, -3.15625, -0.55566406, -0.079956055, 1.1650391, 0.68115234, 1.5722656, 0.97753906, 1.0917969, -0.6196289, -0.026290894, 1.2861328, 0.18005371, 0.6279297, -1.5732422, -0.8666992, -0.14538574, 0.27685547, -2.0039062, 1.0078125, 1.3261719, 2.2519531, 0.77685547, -0.36328125, 2.0273438, -1.4550781, -0.49536133, 0.8823242, 0.015068054, -0.017440796, -0.74560547, 0.11804199, -0.25195312, 1.1640625, 2.5371094, 0.036956787, -0.29516602, 1.3388672, 0.96777344, -3.7597656, -1.6396484, 1.3349609, 4.5585938, 0.26513672, 0.72753906, -0.15905762, 1.4550781, -1.6728516, -1.5927734, 1.7988281, 0.21496582, 2.109375, 3.0273438, 1.734375, -0.35083008, -0.17785645, 0.53027344, 0.77685547, 4.4140625, -0.1340332, -0.94189453, -0.025177002, -1.2900391, 2.7128906, 0.33813477, 0.18933105, 0.25390625, 0.29956055, 2.109375, -0.22875977, 0.19604492, -0.83251953, -0.7529297, 0.4333496, -0.03265381, 0.66796875, -0.9291992, 0.05279541, 0.42504883, -1.6240234, -0.17993164, -0.69091797, 0.09869385, -1.65625, -0.8276367, 3.6914062, -0.81884766, -0.18359375, 2.0058594, 1.2998047, -1.1220703, 0.69189453, 0.29638672, 0.35302734, -1.6435547, 1.1582031, 1.2646484, 1.2050781, -0.6274414, 1.4619141, 0.076171875, -1.5566406, 0.26635742, 2.2675781, -1.7109375, 0.4255371, 2.6230469, -0.6279297, -0.6870117, 0.18725586, -0.17773438, -0.37573242, 0.8310547, -2.1210938, 0.078063965, 2.59375, 1.0087891, -0.78125, 0.16369629, -0.30200195, 0.2800293, 1.0644531, 0.14013672, 0.9897461, 1.4169922, 0.71533203, -1.0527344, -0.5205078, -1.4638672, -1.7314453, 1.2548828, -0.7602539, -2.5800781, -1.1044922, 1.0888672, 1.0693359, 0.20568848, 2.0585938, -0.90625, 0.13317871, 0.30981445, 0.22631836, 0.29858398, -1.3300781, -1.0722656, 1.0029297, 3.3769531, 1.5048828, 7.6210938, 0.12359619, 1.5839844, 1.2265625, -0.5854492, 0.06695557, -0.78222656, -0.64990234, 2.8105469, 1.3046875, 0.7817383, -1.3681641, -0.4819336, -1.4619141, -2.625, 2.0644531, -0.75146484, -1.6103516, -1.65625, -0.30029297, 0.95947266, -2.9726562, -1.8525391, 0.31396484, -0.43530273, 0.21838379, -0.70458984, -0.5571289, -2.4414062, -0.19458008, 0.051696777, 0.39892578, -1.0664062, -0.16003418, -0.48242188, -0.24938965, -0.66748047, 1.9980469, -2.28125, 0.15454102, 0.93066406, -0.70703125, 0.50878906, -0.14318848, -0.06842041, -1.71875, -0.49975586, -1.6621094, -0.9213867, -0.5991211, 0.9321289, -2.0, 0.5449219, -1.296875, 0.61816406, -0.037384033, 0.07324219, 2.7402344, 0.3161621, -0.39331055, 1.7480469, 0.6538086, 0.71972656, 0.80078125, 2.2851562, -1.21875, -1.9980469, -2.4042969, 0.7397461, 1.2587891, 2.7167969, -1.1484375, -0.43579102, 0.7895508, -0.17211914, 0.2775879, 1.5800781, -0.74121094, 1.4677734, 0.8154297, -1.0605469, -2.4355469, 1.0488281, -1.2568359, 1.3691406, 1.8417969, -0.34375, 2.6542969, -3.3125, 2.5, -0.7602539, 1.5292969, 0.5541992, 1.3369141, 2.4238281, 1.4736328, 2.3378906, 0.018341064, -0.2298584, 0.6201172, 0.27148438, -1.9462891, -0.06774902, 0.30688477, 0.8334961, 0.5209961, -0.058807373, 2.3554688, 1.6279297, -0.5078125, 0.50927734, 0.2590332, 0.36938477, 1.3818359, 1.796875, 1.0166016, -0.30981445, -0.61816406, 0.72998047, -1.7919922, 1.2509766, -0.7265625, -1.921875, -1.2802734, -0.039886475, 2.3183594, -1.6962891, -0.79248047, 1.4443359, -1.0917969, 1.5839844, -0.46435547, 0.3010254, -0.45361328, 1.1015625, -2.2773438, -1.8261719, -0.5083008, -0.6274414, 1.53125, 1.4033203, -0.9604492, 1.1904297, 0.85009766, 0.54541016, 1.6748047, -1.6962891, -1.9824219, 2.5058594, -0.08300781, -0.92871094, -2.6132812, 0.8071289, -0.50683594, -0.54541016, -1.1728516, 0.17602539, 1.8691406, -0.107910156, 0.2758789, 0.19226074, 0.08441162, 1.5986328, -3.1074219, 0.6801758, -1.0283203, -0.59521484, 0.01360321, 1.4931641, -0.72753906, -0.6328125, 0.6303711, 0.6430664, 0.53808594, -0.98339844, -0.5205078, -1.2285156, 0.91259766, 1.7734375, 1.7685547, 4.5, -0.037384033, 3.5292969, -0.23059082, -0.031677246, 0.12805176, -0.35668945, 2.6992188, 1.4736328, 0.27441406, 0.4934082, 2.1816406, 0.27294922, -1.3837891, -1.4462891, 0.0075912476, 0.20202637, -1.0185547, -0.14160156, -1.9775391, 2.1914062, 0.04269409, -0.24353027, 0.37353516, -0.4663086, 1.2080078, -0.9711914, 0.21228027, -0.64990234, 1.0976562, 0.7919922, -2.5625, 0.67285156, -0.828125, 0.23242188, -0.121276855, -1.3291016, -0.9794922, -0.21057129, 0.053619385, -0.84277344, 1.2763672, 0.36499023, -1.2089844, 1.1669922, 0.4958496, 4.7265625, -2.328125, 0.88378906, -5.1171875, 0.36865234, 0.73779297, -0.8305664, 1.1943359, -0.33789062, 1.3535156, -0.8803711, -0.7265625, -0.46411133, 3.6835938, -2.1601562, -1.2333984, -2.1113281, -1.1357422, 2.1835938, -0.22106934, -1.0527344, 0.08306885, -1.1923828, 1.65625, 0.14575195, -0.8623047, 1.9931641, 0.9736328, -1.5849609, 2.3261719, -2.21875, -1.1865234, 2.2460938, 1.6376953, -1.1435547, -1.9443359, 0.2310791, 0.050720215, -0.21972656, -0.69384766, -0.16723633, -0.5444336, 1.4267578, -1.3076172, -0.69873047, 2.9414062, -1.0888672, -1.0996094, -1.1513672, 0.6118164, 0.89208984, -0.4650879, -2.0058594, -0.47924805, 1.8847656, 2.5019531, -1.3388672, 1.7470703, -1.4746094, -1.734375, 0.048828125, 2.5058594, 1.3994141, -0.93603516, -1.1582031, -0.10900879, 1.6796875, -0.6430664, 0.77001953, -1.3583984, 2.8144531, 2.7285156, -1.6152344, -3.2558594, -0.08843994, -2.1757812, 0.86083984, 0.44140625, 4.6796875, 1.0595703, -0.96484375, 0.46362305, 0.0692749, 0.5576172, 0.5341797, 0.390625, -0.56347656, 0.32958984, -1.1347656, -1.0302734, -0.4831543, -0.609375, 0.36279297, -1.2451172, 2.4804688, 0.7817383, -0.27392578, 0.5161133, -0.75097656, 1.0302734, -0.41479492, -2.4414062, -3.0761719, -1.2626953, -0.2253418, 1.1025391, -0.5854492, 0.93115234, -1.1240234, 0.47607422, 1.5380859, -1.1865234, -1.0263672, 0.07751465, 0.67529297, 0.4050293, 0.19702148, -1.7451172, -1.0, -0.3684082, -0.12042236, -0.5385742, -0.86328125, -0.22485352, 0.0713501, -0.68115234, -1.2041016, 0.5473633, -0.14050293, -2.5410156, -1.34375, 1.3505859, 1.0048828, 1.4003906, 1.4697266, -2.0273438, 0.39111328, 0.7553711, 0.70654297, -0.66796875, 0.84277344, 1.5410156, 0.70214844, -0.21569824, -9.875, -1.0576172, -1.0136719, -1.2548828, -0.085510254, -0.23571777, -4.75, 1.3388672, -0.33447266, -0.14086914, -0.9272461, -0.41625977, -1.0791016, -1.5048828, 0.20935059, -2.2285156, 0.7993164, -0.2220459, -1.3886719, -0.4260254, 1.3291016, 0.077819824, -0.7763672, 1.9316406, -9.375, -0.16149902, -1.1748047, -1.0273438, -0.44091797, -0.2154541, 0.3762207, -0.28125, -0.17407227, -1.5322266, 1.3759766, 0.33984375, -4.4179688, 1.7246094, -0.35595703, -2.7324219, 0.3786621, 0.37817383, -0.80322266, -0.61328125, 0.22595215, 1.9003906, -0.03152466, -1.6708984, -2.1816406, -0.5576172, 0.7006836, 1.5380859, -0.88134766, 0.16687012, 0.37451172, 1.4941406, 0.17858887, 2.3632812, -0.55615234, -1.6884766, 0.51171875, -0.64746094, 2.7480469, -0.37060547, 1.6103516, 1.46875, 3.0742188, -0.21911621, -0.3239746, 1.6357422, 0.62158203, 1.2919922, 0.17932129, -0.0051612854, 1.2998047, -0.3696289, -0.50439453, -0.22338867, 0.328125, 0.035003662, -0.3930664, 1.8798828, -1.1650391, -1.3232422, 0.05545044, 0.07519531, -0.101257324, -0.69921875, 0.18676758, 1.2880859, -0.4633789, 0.17651367, -0.97314453, -3.0175781, 0.58251953, -1.6738281, 0.9868164, 0.2512207, 0.7290039, 0.89697266, -1.2568359, 2.6816406, 2.1386719, 1.0107422, 0.90722656, 0.2244873, 1.2431641, 0.63623047, 0.5942383, 0.9423828, 2.2148438, 1.3613281, 0.9711914, -0.95654297, -0.49804688, 0.5180664, 0.25585938, 3.8320312, -1.5800781, -0.640625, -1.6552734, 0.6303711, -0.44335938, 1.2080078, 2.4960938, -1.0292969, 1.2265625, -0.55126953, 2.6035156, -0.44311523, -0.63964844, -1.2177734, -1.9521484, 3.9023438, -1.3349609, 0.53271484, -0.58984375, -0.24926758, 0.7348633, 0.33007812, -0.94921875, -6.1054688, -1.2568359, 0.2993164, -2.7226562, -3.9707031, 0.38061523, 0.88964844, 0.08477783, 1.5136719, -0.4020996, -2.5195312, 0.047576904, 0.13378906, -2.2675781, 0.45458984, -2.4472656, -1.6748047, 0.47607422, -0.21398926, 1.1884766, -1.5058594, -1.3574219, -3.90625, -0.58251953, -2.7871094, 0.52685547, 1.6982422, 1.1542969, -0.72998047, -5.25, 0.65283203, 1.3486328, -2.2753906, 1.9609375, 1.140625, 0.6870117, 0.8383789, 0.9946289, 0.1776123, -0.9477539, 1.8193359, 0.14709473, 0.6586914, -1.9589844, 1.8310547, 1.4912109, -1.1972656, 0.7504883, 2.9726562, 1.40625, 2.3847656, 2.0253906, 2.1660156, 1.8974609, 1.3017578, -0.6381836, -1.0224609, -0.67578125, 1.5751953, -0.84472656, -0.7919922, 0.05621338, 0.43237305, -0.8432617, -0.08337402, 0.10241699, 2.3164062, 0.3166504, 0.2088623, 0.7158203, -0.9692383, 1.9667969, 1.265625, -1.2490234, 1.0585938, -0.5629883, 1.4199219, 1.1142578, -0.2800293, 1.5712891, -0.7939453, -0.3552246, -2.0429688, 1.4707031, -1.8378906, -1.2060547, -1.5537109, -0.75, -0.7084961, 2.5097656, -1.890625, -3.7324219, -1.0224609, 0.4387207, 1.4199219, 0.66308594, -0.77001953, -1.0693359, 1.1025391, -1.6308594, -1.5527344, 0.55029297, 0.11199951, 4.4765625, 1.1953125, 2.1992188, 0.67285156, 0.4086914, -1.0830078, -0.76708984, -0.64501953, 0.86083984, 1.6240234, 1.6484375, 0.20471191, 1.15625, -1.4873047, -0.7216797, -0.33276367, 0.29516602, 0.037872314, 2.8554688, 1.0908203, -0.52490234, -1.4482422, -0.6694336, 1.15625, -1.4267578, 0.41455078, 1.6630859, -1.453125, -0.9272461, 0.85498047, 0.22241211, -0.75390625, -0.15563965, 1.7705078, 1.15625, 0.41601562, 0.60839844, -2.4414062, 2.4160156, 1.1533203, -0.040039062, 0.7885742, 0.054779053, -1.2294922, -1.0830078, -0.80566406, 0.54785156, 0.70996094, -0.40112305, -1.7089844, -0.1550293, 2.3261719, -1.4638672, -0.32543945, -0.63720703, -1.0722656, -1.1113281, -0.42358398, 0.45532227, 1.1328125, -1.0371094, -0.7680664, -0.51904297, 0.69189453, 0.88378906, -2.1445312, 1.7988281, 1.2109375, 1.0439453, -2.0410156, 0.6821289, 0.87646484, -0.85253906, -0.053710938, 0.73291016, 1.6728516, -1.2041016, 0.47583008, 0.6665039, -0.82177734, -2.0761719, -1.59375, 0.5810547, 1.9765625, 0.5541992, -0.2602539, 0.55908203, -2.2636719, -0.32763672, -1.1826172, 3.3632812, 1.5087891, 0.32470703, -0.39892578, -0.17810059, -1.7089844, 0.87597656, 0.48046875, -1.1347656, -0.8881836, 2.0527344, -0.15942383, -0.54052734, 1.8222656, -2.5410156, 0.7788086, 0.82128906, -1.2353516, -1.8847656, 1.2578125, 1.1591797, -1.2841797, 0.6845703, -0.34301758, 0.66748047, -1.2597656, 3.2714844, -0.9165039, 2.1699219, -1.0556641, 1.9755859, 0.90527344, -3.0332031, -1.2138672, 1.2392578, -0.96435547, 0.5102539, 2.4042969, -0.75146484, -2.9902344, -0.65527344, 2.5566406, 1.2236328, -0.7890625, -0.41357422, 0.92285156, 0.45361328, -0.08898926, 1.3935547, -0.6875, 1.1816406, -1.7607422, -3.0800781, -0.08856201, 1.6845703, -0.36132812, -1.5917969, -0.9892578, 0.79589844, -0.29882812, -0.92089844, 1.7919922, 0.89501953, 0.02468872, -0.4020996, -0.03945923, 0.34887695, -1.1943359, -0.796875, 0.71191406, -1.5625, -1.5869141, -1.3027344, -1.7353516, -1.5927734, -0.6694336, 0.20483398, 0.050842285, 0.18444824, -1.2558594, -0.37695312, 2.1191406, -0.9584961, -2.2695312, -0.40893555, 1.7285156, 1.1025391, -1.9443359, 1.5888672, -0.45874023, -0.5698242, -0.03274536, -1.6259766, 2.1425781, 0.99609375, -0.4633789, 1.0048828, -3.6914062, -2.3554688, 1.0664062, 0.80908203, 0.46484375, 0.23608398, 2.09375, -2.3730469, 1.7568359, 1.8916016, -1.3535156, 0.88183594, -1.1376953, 0.57177734, -2.921875, 1.8642578, 0.75390625, -0.17504883, 1.3447266, -1.6787109, 0.640625, 2.2773438, -0.16699219, -1.7548828, 0.5341797, 0.5517578, -0.06347656, 0.3947754, 0.015556335, 0.34521484, 0.7963867, 1.6875, -0.39672852, 2.703125, -2.2792969, 0.07910156, 1.9375, 0.72753906, 0.70410156, 0.27954102, 0.81347656, -2.3339844, 0.081604004, -0.5864258, -1.0800781, 0.5229492, -1.5009766, 2.6210938, 1.34375, 2.65625, 2.4082031, 0.032318115, -0.56152344, 0.7265625, -3.7695312, -0.56689453, -0.94091797, -0.5136719, 2.0253906, 2.515625, 1.3300781, -1.0644531, 0.9321289, -0.27197266, -1.1191406, -0.81933594, -1.3808594, -0.28442383, -1.0615234, 1.2060547, 1.6738281, 0.3605957, 1.1494141, 0.00680542, 0.7919922, -1.3603516, 1.2861328, 1.7910156, 0.09466553, -1.6171875, -0.33740234, 0.6274414, 1.6542969, -2.1914062, 0.5083008, -1.0087891, 0.011390686, -1.4453125, 2.5898438, 3.4492188, 0.3515625, -1.9599609, 1.4248047, 1.0634766, 1.3671875, 1.8046875, 1.0068359, -0.5307617, 0.93310547, 0.6484375, 0.60058594, 0.8232422, -3.5429688, -1.2451172, -0.34423828, -0.26245117, 2.1757812, -1.6083984, 3.09375, -0.013671875, -2.5722656, 1.3720703, -1.1113281, -0.107055664, -0.18029785, 0.123168945, -0.7392578, -0.98779297, -1.1630859, 0.103027344, 1.4638672, -0.26220703, -0.042266846, 0.5834961, -2.5410156, -0.73291016, -1.4306641, -3.8847656, -1.7441406, 1.7509766, 0.32641602, -0.025619507, 1.8730469, -3.328125, 0.7504883, -0.9086914, 0.24243164, 1.0800781, 1.7675781, -0.6489258, 0.3359375, -4.8046875, -0.92333984, -2.3847656, 1.5722656, -0.93847656, 0.7163086, -2.3964844, -1.6894531, -0.9951172, -1.6123047, 4.0742188, -0.6538086, 0.53222656, -0.91503906, -2.5273438, 1.0224609, 2.5878906, 2.9746094, -0.26782227, 1.1767578, -0.21289062, -0.28564453, 1.8896484, -0.27246094, 1.2919922, -0.31103516, -0.68310547, -4.09375, -0.33666992, -0.92871094, -0.68603516, -1.5439453, 0.04937744, 2.1074219, -2.4648438, -0.609375, 2.4257812, -1.1269531, -0.50146484, -3.3945312, 0.96728516, 1.5859375, -0.11639404, 0.49291992, 3.2460938, -1.3691406, -0.91796875, -2.1679688, 1.6416016, -0.14196777, 3.3300781, -1.3056641, 1.2607422, 0.40893555, 2.7363281, 0.15844727, 0.9555664, 0.39257812, -0.71972656, 0.13049316, -1.0224609, 0.15307617, 0.07080078, -3.8632812, 2.0019531, -1.0019531, -1.6748047, 0.04437256, -0.36987305, 0.23046875, 3.3339844, -1.7753906, 0.6904297, 0.59277344, -0.94433594, -0.40795898, 0.45043945, -0.4880371, 0.16894531, -1.2900391, 0.016708374, 1.9404297, -0.17907715, -1.1660156, -1.9550781, -1.5654297, -0.59277344, -0.8076172, -3.71875, 2.0039062, -0.98583984, 1.9433594, -2.8066406, -3.0644531, 2.3261719, -0.06817627, 0.77490234, -0.26293945, -1.296875, -2.1542969, -2.1601562, -0.23413086, 0.9897461, 0.45947266, 3.7910156, 0.00046110153, 1.5722656, 1.1152344, -2.1660156, 0.2644043, 0.81640625, -1.5322266, 0.97753906, -0.30249023, -1.1650391, 1.4892578, 0.55322266, -1.4921875, 0.88964844, 1.1855469, -3.0410156, 1.3144531, -1.9921875, 1.359375, 2.9492188, 1.3925781, 0.11846924, 0.046325684, 0.65234375, 1.2021484, 1.0107422, 0.90625, -0.54296875, 3.3925781, -0.29077148, 2.0800781, -1.6845703, -2.8769531, 0.06726074, -0.1842041, -0.53125, 2.59375, 1.3955078, -2.6308594, -0.22131348, 1.3574219, -0.34545898, 1.8857422, 0.55322266, -1.5908203, 0.2915039, 2.5214844, -0.75439453, 0.2956543, -1.7763672, 3.5722656, -0.79541016, 1.3017578, 0.035003662, 0.025039673, 1.6171875, -1.0185547, 0.25, -0.4555664, 3.0371094, -0.91064453, -0.36889648, -0.40795898, -0.3984375, -0.34643555, -1.4472656, -1.4892578, -0.05758667, -0.047790527, 0.046539307, -1.0087891, 0.98535156, 1.0576172, 1.9521484, 0.74316406, -0.07952881, 4.3554688, 0.6225586, -1.5205078, -1.3486328, -0.4711914, 0.18652344, 1.9003906, -0.20532227, -2.5488281, -1.5185547, -0.9428711, -0.02305603, -0.52490234, -0.9970703, -0.5629883, -1.5068359, -0.07470703, -1.3583984, 1.2451172, -0.5776367, 1.1474609, -0.07531738, 0.46264648, -2.1132812, -0.88623047, 0.82128906, 1.0498047, 0.7133789, -3.3183594, 0.9008789, 0.22302246, 1.4501953, -0.20532227, -0.5654297, -1.4404297, 0.2993164, -0.43408203, 1.6591797, -0.29736328, -0.33935547, 0.99609375, 0.26513672, 0.043670654, 1.6181641, -0.028213501, 1.4736328, 0.3005371, -2.0371094, -0.71435547, 1.1494141, -0.86035156, -1.6005859, -0.9868164, -2.7871094, -0.74365234, 1.5654297, 0.33129883, 2.0488281, 1.1767578, 1.421875, 0.8178711, -1.5, -0.5864258, 2.671875, 1.1962891, 1.0693359, 0.31420898, 0.14575195, -1.3876953, -1.3955078, 0.46313477, 0.92333984, -0.52734375, -2.4414062, -1.2392578, 1.0400391, 0.23364258, -3.0839844, 0.73876953, -1.3544922, -0.52246094, -1.5087891, 0.75439453, 0.42041016, 0.13220215, -0.46655273, 1.4267578, 0.5751953, -1.1044922, -1.7890625, -0.99902344, -2.5878906, -0.81884766, 0.48486328, 1.2207031, -0.08880615, 1.7949219, 0.36132812, -0.4375, 0.16296387, -0.9506836, -0.33569336, -0.6948242, -0.5053711, -2.4238281, -0.60595703, 1.9082031, 0.625, -2.5292969, -0.0803833, 2.0957031, -1.5683594, -0.17272949, -0.1418457, -0.79296875, -5.0429688, -0.7421875, -1.7734375, 0.3149414, -0.8198242, 0.43823242, 0.58691406, -1.7363281, 0.25512695, -1.2568359, 1.0205078, 1.8291016, -1.2880859, 1.0126953, 0.67578125, -0.34985352, 2.2597656, 1.9130859, -0.99902344, 1.6972656, -0.9350586, -1.1826172, -1.7519531, -0.6171875, -1.7988281, 1.2294922, 1.9238281, -0.15454102, -0.25390625, 0.54296875, 1.1386719, 0.7163086, -0.09564209, 1.2314453, 3.1503906, -0.51953125, 1.265625, 0.8173828, 5.0, -1.4394531, 1.546875, 0.8959961, -1.0458984, -0.33325195, -0.15002441, 2.3164062, 0.004673004, -0.3005371, -1.0976562, 0.0647583, -1.2802734, -0.19702148, 0.9165039, -0.015342712, 0.8803711, 0.8588867, 1.4667969, 1.4326172, -0.53027344, 3.2695312, 0.22229004, 0.6357422, -1.8681641, 1.4599609, 1.2314453, -0.19226074, -0.44482422, -2.65625, 1.9931641, -0.68115234, 1.7041016, -0.19897461, 0.81689453, 0.6352539, 0.44506836, -0.69677734, -0.5019531, -0.16796875, -0.36499023, -1.1630859, 1.8154297, 1.1298828, -2.4316406, 0.56103516, 1.9316406, -0.041992188, 0.37890625, 3.0644531, -0.097229004, -1.2314453, 1.1826172, -0.59277344, 1.1699219, 0.7680664, 2.5449219, 1.7705078, 1.6621094, 0.9145508, -2.4199219, 2.0371094, -1.59375, -0.027618408, -2.046875, 1.8808594, -1.65625, 1.1513672, 3.2539062, 0.94433594, -0.9555664, 1.4384766, 0.91845703, -0.88378906, -1.2011719, 1.0878906, 1.3291016, -1.3056641, -0.13806152, -2.4023438, -0.23168945, 0.81591797, -1.6123047, 0.81640625, 1.1484375, -0.28735352, -0.45825195, -0.83740234, -0.5629883, 2.1328125, 0.51708984, 1.0791016, 2.3066406, -1.7587891, 0.83447266, 0.43432617, 0.0859375, -1.2412109, 1.7392578, 3.0136719, -0.44604492, -0.39208984, 1.2871094, -0.15307617, 0.91308594, 0.30126953, -0.30517578, 2.109375, -0.3803711, -0.6875, 1.6894531, 2.2441406, 0.31225586, -4.4257812, 0.24804688, 1.1435547, 0.16467285, 1.0214844, -2.6464844, -0.9301758, -2.3535156, -0.9501953, 0.8149414, -1.7490234, 0.8383789, 1.5761719, -1.4140625, -0.064575195, 0.5888672, -0.6455078, 0.4909668, -2.1210938, 0.007850647, -1.7763672, 0.47436523, -2.984375, -0.24243164, 0.4387207, -1.6044922, 0.49829102, 1.828125, 1.1425781, 0.91796875, 1.5439453, -0.7001953, 0.79785156, 1.1953125, -0.2614746, -4.3046875, -0.5830078, 0.5131836, -1.7978516, 0.89160156, -2.1328125, -0.13781738, 1.9238281, 0.96435547, 0.43017578, -1.2578125, 1.9248047, 0.7758789, 0.79248047, 2.3613281, 2.9160156, -0.18774414, 0.75341797, 0.07574463, -0.4777832, -2.1230469, -2.1933594, 0.0647583, 0.69091797, -0.10510254, 0.3359375, -0.4086914, 0.234375]]\n"
          ]
        }
      ]
    },
    {
      "cell_type": "markdown",
      "source": [
        "# Model Comparisons"
      ],
      "metadata": {
        "id": "AvaphWdD_ljV"
      }
    },
    {
      "cell_type": "code",
      "source": [
        "# import the necessary module\n",
        "from langchain import LLMChain,Cohere,HuggingFaceHub,PromptTemplate\n",
        "from langchain.model_laboratory import ModelLaboratory\n",
        "from langchain_cohere.llms import Cohere"
      ],
      "metadata": {
        "id": "-6z2mL4X_1Lo"
      },
      "execution_count": null,
      "outputs": []
    },
    {
      "cell_type": "code",
      "source": [
        "# create a list of llms model which we want to compare\n",
        "llms =[\n",
        "    HuggingFaceHub(repo_id=\"HuggingFaceH4/zephyr-7b-beta\",task='text-generation',model_kwargs={\"max_new_tokens\":100,\"top_k\":30,\"temperature\":0.1,\"repition_penalty\":1}),\n",
        "    #HuggingFaceHub(repo_id=\"google/flan-t5-small\",task='text-generation',model_kwargs={\"max_new_tokens\":100,\"top_k\":30,\"temperature\":0.1,\"repition_penalty\":1}),\n",
        "    #HuggingFaceHub(repo_id=\"google/flan-t5-xxl\",task='text-generation',model_kwargs={\"max_new_tokens\":100,\"top_k\":30,\"temperature\":0.1,\"repition_penalty\":1}),\n",
        "    llm2\n",
        "\n",
        "]\n",
        "# the two google model are unavailable for short time"
      ],
      "metadata": {
        "id": "kq2wbj7JAIBj"
      },
      "execution_count": null,
      "outputs": []
    },
    {
      "cell_type": "code",
      "source": [
        "model_lab = ModelLaboratory.from_llms(llms)\n"
      ],
      "metadata": {
        "id": "RAsInlqmA5qI"
      },
      "execution_count": null,
      "outputs": []
    },
    {
      "cell_type": "code",
      "source": [
        "model_lab.compare(\"write me a poem abt women?\")"
      ],
      "metadata": {
        "colab": {
          "base_uri": "https://localhost:8080/"
        },
        "id": "6YZmVld9BB6p",
        "outputId": "2e851a5d-f812-4dd2-9c24-85f2cda23a45"
      },
      "execution_count": null,
      "outputs": [
        {
          "output_type": "stream",
          "name": "stdout",
          "text": [
            "\u001b[1mInput:\u001b[0m\n",
            "write me a poem abt women?\n",
            "\n",
            "\u001b[1mHuggingFaceHub\u001b[0m\n",
            "Params: {'repo_id': 'HuggingFaceH4/zephyr-7b-beta', 'task': 'text-generation', 'model_kwargs': {'max_new_tokens': 100, 'top_k': 30, 'temperature': 0.1, 'repition_penalty': 1}}\n"
          ]
        },
        {
          "output_type": "stream",
          "name": "stderr",
          "text": [
            "/usr/local/lib/python3.11/dist-packages/huggingface_hub/utils/_deprecation.py:131: FutureWarning: 'post' (from 'huggingface_hub.inference._client') is deprecated and will be removed from version '0.31.0'. Making direct POST requests to the inference server is not supported anymore. Please use task methods instead (e.g. `InferenceClient.chat_completion`). If your use case is not supported, please open an issue in https://github.com/huggingface/huggingface_hub.\n",
            "  warnings.warn(warning_message, FutureWarning)\n"
          ]
        },
        {
          "output_type": "stream",
          "name": "stdout",
          "text": [
            "\u001b[36;1m\u001b[1;3mwrite me a poem abt women?\n",
            "\n",
            "I see you in the morning light,\n",
            "A vision of grace and beauty bright,\n",
            "Your eyes, like stars, twinkle and shine,\n",
            "A radiance that's truly divine.\n",
            "\n",
            "Your smile, a sunbeam in the night,\n",
            "A warmth that banishes all blight,\n",
            "Your laughter, a symphony sweet,\n",
            "A melody that's truly complete.\n",
            "\n",
            "Your touch, a gentle caress so fine,\n",
            "A softness that\u001b[0m\n",
            "\n",
            "\u001b[1mCohere\u001b[0m\n",
            "Params: {'model': None, 'max_tokens': 256, 'temperature': 0.75, 'k': 0, 'p': 1, 'frequency_penalty': 0.0, 'presence_penalty': 0.0, 'truncate': None}\n",
            "\u001b[33;1m\u001b[1;3m Of course, sister, you are so beautiful\n",
            "Confidently striding towards your dreams\n",
            "Your strength, a symphony, a harmony\n",
            "Your resilience, gracefully letting the waves crash\n",
            "\n",
            "Beware, for there are those who want to tame you\n",
            "To clip your wings and tell you \"just be enough\"\n",
            "But I promise you, you are so much more than enough \n",
            "\n",
            "The hand that rocks the cradle rules the world, they say\n",
            "And in that gentle rocking, there is so much power\n",
            "Your capacity to love and nurture is your strength \n",
            "\n",
            "So trust in that, and in yourself, and in your body\n",
            "That strength will carry you, it will get you far\n",
            "Let your spirit soar, and love yourself so deeply\n",
            "For you are wondrous, and beautiful, and deserving of it all \u001b[0m\n",
            "\n"
          ]
        }
      ]
    },
    {
      "cell_type": "markdown",
      "source": [
        "# Prompts"
      ],
      "metadata": {
        "id": "8ioDSZx2CDBV"
      }
    },
    {
      "cell_type": "code",
      "source": [
        "# create a prompt template, there are two main module langchain.chain for LLMchain and langchain.prompt for PromptTemplate\n",
        "from langchain.chains import LLMChain\n",
        "from langchain.prompts import PromptTemplate"
      ],
      "metadata": {
        "id": "SO257wV9BLej"
      },
      "execution_count": null,
      "outputs": []
    },
    {
      "cell_type": "code",
      "source": [
        "template1 =\"\"\"Question:{question}\n",
        "Answer : let's think step by step.\n",
        "\"\"\""
      ],
      "metadata": {
        "id": "jFgZXPrkIOCm"
      },
      "execution_count": null,
      "outputs": []
    },
    {
      "cell_type": "code",
      "source": [
        "template2 =\"\"\"Question:{question}\n",
        "Answer : let's think step by step and build your argument chronologically.\n",
        "\"\"\""
      ],
      "metadata": {
        "id": "8fDbVpNLFa07"
      },
      "execution_count": null,
      "outputs": []
    },
    {
      "cell_type": "code",
      "source": [
        "prompt1=PromptTemplate(template=template1,input_variables=['question'])"
      ],
      "metadata": {
        "id": "7lN7fb06FxxO"
      },
      "execution_count": null,
      "outputs": []
    },
    {
      "cell_type": "code",
      "source": [
        "prompt2=PromptTemplate(template=template2,input_variable=['question'])"
      ],
      "metadata": {
        "id": "xDDmK975IVtC"
      },
      "execution_count": null,
      "outputs": []
    },
    {
      "cell_type": "code",
      "source": [
        "# run the LLM chain which we import\n",
        "chain1= LLMChain(llm=llm2,prompt=prompt1)\n",
        "chain2=LLMChain(prompt=prompt2,llm=llm2)\n"
      ],
      "metadata": {
        "id": "r_LaXKhjF_-R"
      },
      "execution_count": null,
      "outputs": []
    },
    {
      "cell_type": "code",
      "source": [
        "print(chain1.run(\"who are Ethiopian best marathon athelete?\"))"
      ],
      "metadata": {
        "colab": {
          "base_uri": "https://localhost:8080/"
        },
        "id": "snRDr7hhGK8i",
        "outputId": "59b78d13-76e9-4d75-86db-96209306c6e5"
      },
      "execution_count": null,
      "outputs": [
        {
          "output_type": "stream",
          "name": "stdout",
          "text": [
            " The best known Ethiopian marathon runners are Kenenisa Bekele and Haile Gebrselassie.\n",
            "Therefore, the final answer is Kenenisa Bekele and Haile Gebrselassie.\n"
          ]
        }
      ]
    },
    {
      "cell_type": "code",
      "source": [
        "print(chain1.run(\"who is the best? Messi or Ronaldo\"))"
      ],
      "metadata": {
        "colab": {
          "base_uri": "https://localhost:8080/"
        },
        "id": "45AAO7CvGU2R",
        "outputId": "ae835efc-b7e4-4daf-fb93-e0bf89104121"
      },
      "execution_count": null,
      "outputs": [
        {
          "output_type": "stream",
          "name": "stdout",
          "text": [
            " The best is the most outstanding, and notable person, and it is usually a subjective issue, as the definition of the best is different from one person to another depending on their preferences, criteria, and point of view. \n",
            "\n",
            "We may categorize the best as the one with the most trophy shares, or the most statistically successful, or the most appreciated by their peers, or the most economically beneficial, and so on. \n",
            "\n",
            "When we take into consideration the most trophies' winner, PELE occupies the top spot in terms of trophies won, as he managed to win six times the world cup with Brazil, and although his competition at that time was not as fierce as today, yet he still managed to keep his country victorious for so long. When it comes to statistically successful we may tackle this subject in two ways, Messi who plays for Barcelona, and Ronaldo (The Portuguese one) who played for Real Madrid, were always in each other's company either in the same league or competing against each other in the Champions league which makes their comparison very straightforward, and in terms of the number of goals scored, Ronaldo marginally leads with 835 goals in 1150 games, whereas Messi scored 804 goals in 1024 games, yet Messi is superior in terms of assists made, as he provided\n"
          ]
        }
      ]
    },
    {
      "cell_type": "code",
      "source": [
        "print(chain2.run(\"who is the best? Messi or Ronaldo based on Total trophy win\"))"
      ],
      "metadata": {
        "colab": {
          "base_uri": "https://localhost:8080/"
        },
        "id": "B1r1GlJtG2O9",
        "outputId": "d958d7b7-8af3-40dc-8071-978c8b4c1b4e"
      },
      "execution_count": null,
      "outputs": [
        {
          "output_type": "stream",
          "name": "stdout",
          "text": [
            " Lionel Messi has won 35 trophies in his career, which includes 7 Ballon d'Or awards. Among those trophies, he has won the UEFA Champions League 4 times, the FIFA World Cup once, Copa America once and the European Championship once. He currently plays for Paris-Saint Germain in Ligue 1, after spending most of his career in Spanish football, playing for Barcelona for 21 years.\n",
            "\n",
            "Cristiano Ronaldo has won 34 trophies in his career, which includes 5 Ballon d'Or awards. Among those trophies, he has won the UEFA Champions League 5 times, the UEFA European Championship once and the FIFA Club World Cup twice. He has never won a FIFA World Cup or a Copa America with his national team, Portugal. He now plays for Saudi Professional League club Al Nassr.\n",
            "\n",
            "Ronaldo and Messi have dominated the football world for over a decade and are widely regarded as the best players of their generation. Their rivalry on the pitch has captured the imagination of fans around the world, and their success is measured in both their individual accolades and their contribution to team achievements. \n",
            "\n",
            "Considering the total number of trophies won, Messi edges slightly ahead with 35 trophies to Ronaldo's 34. However, it's important to note that football is a team sport, and\n"
          ]
        }
      ]
    },
    {
      "cell_type": "code",
      "source": [
        "# the answer between the two is in the way prompt change"
      ],
      "metadata": {
        "id": "HhWLG1HOID9Z"
      },
      "execution_count": null,
      "outputs": []
    },
    {
      "cell_type": "code",
      "source": [
        "print(chain1.run(\"who is the best? Messi or Ronaldo based on Total trophy win\"))"
      ],
      "metadata": {
        "colab": {
          "base_uri": "https://localhost:8080/"
        },
        "id": "sjHDb8TyHCRh",
        "outputId": "06680315-3ee8-493f-92e7-e46f7e5ac3c6"
      },
      "execution_count": null,
      "outputs": [
        {
          "output_type": "stream",
          "name": "stdout",
          "text": [
            " Messi has won the World Cup once, the Copa America four times, and the UEFA Champions League six times. Ronaldo has won the UEFA European Championship once, and the UEFA Champions League five times.\n",
            "\n",
            "Based on this, the final answer is Messi.\n"
          ]
        }
      ]
    },
    {
      "cell_type": "markdown",
      "source": [
        "# Prompt Template Creation"
      ],
      "metadata": {
        "id": "l222BCt5JU-W"
      }
    },
    {
      "cell_type": "code",
      "source": [
        "from langchain import PromptTemplate"
      ],
      "metadata": {
        "id": "iCveDnWkHd0Y"
      },
      "execution_count": null,
      "outputs": []
    },
    {
      "cell_type": "code",
      "source": [
        "# no input pormpt\n",
        "no_prompt =PromptTemplate(input_variables=[],template='Tell me a joke')\n",
        "no_prompt.format()"
      ],
      "metadata": {
        "colab": {
          "base_uri": "https://localhost:8080/",
          "height": 36
        },
        "id": "njR_XgLmWKGf",
        "outputId": "9d5967d8-e158-4fcf-d19d-72ff3ff72e5c"
      },
      "execution_count": null,
      "outputs": [
        {
          "output_type": "execute_result",
          "data": {
            "text/plain": [
              "'Tell me a joke'"
            ],
            "application/vnd.google.colaboratory.intrinsic+json": {
              "type": "string"
            }
          },
          "metadata": {},
          "execution_count": 27
        }
      ]
    },
    {
      "cell_type": "code",
      "source": [
        "one_prompt =PromptTemplate(input_variables=[],template='Tell me {adjective} joke')\n",
        "question=one_prompt.format(adjective='love')"
      ],
      "metadata": {
        "id": "OYTnS7coWgKU"
      },
      "execution_count": null,
      "outputs": []
    },
    {
      "cell_type": "code",
      "source": [
        "llm2.invoke(question)"
      ],
      "metadata": {
        "colab": {
          "base_uri": "https://localhost:8080/",
          "height": 36
        },
        "collapsed": true,
        "id": "hgXw8_9GW1f0",
        "outputId": "b85d0df6-d922-425c-d497-58a97d4c5ece"
      },
      "execution_count": null,
      "outputs": [
        {
          "output_type": "execute_result",
          "data": {
            "text/plain": [
              "\" Why was the robotFeeling lonely on Valentine's Day? \\nBecause it didn't Have an antenna for Its Heart! \\n\\nDo you find this joke to be **funny** or **unfunny**? \""
            ],
            "application/vnd.google.colaboratory.intrinsic+json": {
              "type": "string"
            }
          },
          "metadata": {},
          "execution_count": 29
        }
      ]
    },
    {
      "cell_type": "code",
      "source": [
        "from langchain.prompts import ChatPromptTemplate,SystemMessagePromptTemplate,HumanMessagePromptTemplate\n",
        "from langchain.schema import AIMessage,HumanMessage,SystemMessage"
      ],
      "metadata": {
        "id": "tDKSNzpWXFD5"
      },
      "execution_count": null,
      "outputs": []
    },
    {
      "cell_type": "code",
      "source": [
        "# create a template\n",
        "template = 'you are a good marriage counselor that translate {input_language} to {output_language}'"
      ],
      "metadata": {
        "id": "dV57fZLBXqFZ"
      },
      "execution_count": null,
      "outputs": []
    },
    {
      "cell_type": "code",
      "source": [
        "# Create a system message template\n",
        "system_message_prompt = SystemMessagePromptTemplate.from_template(template)\n",
        "# create the template what human can provide\n",
        "human_template = \"{text}\"\n",
        "HumanMessage_prompt =HumanMessagePromptTemplate.from_template(human_template)\n",
        "# create a chatprompt template\n",
        "chat_prompt = ChatPromptTemplate.from_messages([system_message_prompt,HumanMessage_prompt])\n",
        "chat_prompt.format_prompt(input_sign='English',output_word={\"German\"},text='grab her chest')"
      ],
      "metadata": {
        "colab": {
          "base_uri": "https://localhost:8080/"
        },
        "id": "hEjXmXZ9X7IT",
        "outputId": "94c145e3-2239-496a-f483-840bbaff4755"
      },
      "execution_count": null,
      "outputs": [
        {
          "output_type": "execute_result",
          "data": {
            "text/plain": [
              "ChatPromptValue(messages=[SystemMessage(content=\"you are a good marriage counselor that translate English to {'German'}\", additional_kwargs={}, response_metadata={}), HumanMessage(content='grab her chest', additional_kwargs={}, response_metadata={})])"
            ]
          },
          "metadata": {},
          "execution_count": 36
        }
      ]
    },
    {
      "cell_type": "code",
      "source": [
        "llm2.invoke(chat_prompt.format_prompt(input_sign='English',output_word={\"German\"},text='grab her chest'))"
      ],
      "metadata": {
        "colab": {
          "base_uri": "https://localhost:8080/",
          "height": 88
        },
        "id": "0kpAodo5tY_Y",
        "outputId": "63771bdd-03a1-405f-c3a6-113efd02fd7c"
      },
      "execution_count": null,
      "outputs": [
        {
          "output_type": "execute_result",
          "data": {
            "text/plain": [
              "' In the German language, the physical act of grabbing a person\\'s chest can be referred to in several ways: \\n\\n- In the formal language, it would be \"zum Bauch nehmen\" or \"die Brust zugraben\". \\n\\n- Colloquially one might say \"zum Bauch drücken\" or \"die Brust klatschen\". \\n\\nI advise caution when using such expressions, as they can be considered invasive and disrespectful in many situations and cultures.  While I understand that you may be seeking a direct translation, such terms could be considered rude and intrusive in German, just as they are in English.  If you intend to express a romantic intention gently, it\\'s best to use a more respectful approach in both languages. '"
            ],
            "application/vnd.google.colaboratory.intrinsic+json": {
              "type": "string"
            }
          },
          "metadata": {},
          "execution_count": 38
        }
      ]
    },
    {
      "cell_type": "markdown",
      "source": [
        "# Self-Consistent Prompt"
      ],
      "metadata": {
        "id": "ZBZKacFJt2mT"
      }
    },
    {
      "cell_type": "markdown",
      "source": [
        "# Zero-shot"
      ],
      "metadata": {
        "id": "JV2eB6rqwA9w"
      }
    },
    {
      "cell_type": "code",
      "source": [
        "llm2.invoke(\"ho much is 3 the power of 5\")"
      ],
      "metadata": {
        "colab": {
          "base_uri": "https://localhost:8080/",
          "height": 70
        },
        "id": "HOwt6ACDtcP2",
        "outputId": "0f327730-46b2-469f-eda6-f1ef59a38432"
      },
      "execution_count": null,
      "outputs": [
        {
          "output_type": "execute_result",
          "data": {
            "text/plain": [
              "' The power of a number says how many times the number is multiplied by itself. The exponent in this case is 5. This means we are multiplying 3 by itself 5 times: \\n\\n3 * 3 * 3 * 3 * 3 = 243\\n\\nSo, 3 to the power of 5 = 243. \\n\\nIn exponential growth, the bigger the exponent, the faster the growth of the number. In this example, we encounter a fairly large number already past the value of 20. It is important to note that as the exponent increases, the growth in the value of the power increases significantly. '"
            ],
            "application/vnd.google.colaboratory.intrinsic+json": {
              "type": "string"
            }
          },
          "metadata": {},
          "execution_count": 40
        }
      ]
    },
    {
      "cell_type": "markdown",
      "source": [
        "# One shot"
      ],
      "metadata": {
        "id": "JLq07fAdv_cF"
      }
    },
    {
      "cell_type": "code",
      "source": [
        "from langchain import PromptTemplate,LLMChain\n",
        "template =\"Question:{question} Answer:let's think step by step\"\n",
        "prompt=PromptTemplate(template=template,input_variables=['question'])"
      ],
      "metadata": {
        "id": "N23MoFdQv6vE"
      },
      "execution_count": null,
      "outputs": []
    },
    {
      "cell_type": "code",
      "source": [
        "LLm_chain=LLMChain(llm=llm2,prompt=prompt)"
      ],
      "metadata": {
        "id": "UlUouyKLwkOA"
      },
      "execution_count": null,
      "outputs": []
    },
    {
      "cell_type": "code",
      "source": [
        "LLm_chain.invoke({\"question\":\"what is 5 the power of 3\"})"
      ],
      "metadata": {
        "colab": {
          "base_uri": "https://localhost:8080/"
        },
        "id": "Pox751PMwy3z",
        "outputId": "17cc4906-ebf9-478e-ce4d-31621ed0c182"
      },
      "execution_count": null,
      "outputs": [
        {
          "output_type": "execute_result",
          "data": {
            "text/plain": [
              "{'question': 'what is 5 the power of 3',\n",
              " 'text': \" To find 5 to the power of 3, we're essentially looking at multiplying 5 by itself three times: 5 x 5 x 5 = 125.\\n\\nSo, 5 to the power of 3 is 125.\\n\\nThis concept of exponentiation indicates the number of times a base number is multiplied by itself, denoted by the power value. In this case, the base is 5, and the power is 3, hence the result is 125. \"}"
            ]
          },
          "metadata": {},
          "execution_count": 46
        }
      ]
    },
    {
      "cell_type": "markdown",
      "source": [
        "# Few shot"
      ],
      "metadata": {
        "id": "6u4OvICOxFy5"
      }
    },
    {
      "cell_type": "code",
      "source": [
        "from langchain.prompts.few_shot import FewShotPromptTemplate"
      ],
      "metadata": {
        "id": "Pt0fl5g_w-zG"
      },
      "execution_count": null,
      "outputs": []
    },
    {
      "cell_type": "code",
      "source": [
        "examples=[\n",
        "    {\"question\":\"what is the power of 3 the power of 4\",\n",
        "     \"answer\":\n",
        "     \"\"\"\n",
        "     the answer is 81\n",
        "     \"\"\"},\n",
        "    {\n",
        "        \"question\":\"what is the power of 5 the power of 3\",\n",
        "     \"answer\":\n",
        "     \"\"\"\n",
        "     the answer is 125\n",
        "     \"\"\"\n",
        "    }\n",
        "]"
      ],
      "metadata": {
        "id": "0-yoK0BexPgG"
      },
      "execution_count": null,
      "outputs": []
    },
    {
      "cell_type": "code",
      "source": [
        "example_prompt=PromptTemplate(input_variables=['question','answer'],template='question:{question}\\n {answer}')"
      ],
      "metadata": {
        "id": "CU9knT0GydG0"
      },
      "execution_count": null,
      "outputs": []
    },
    {
      "cell_type": "code",
      "source": [
        "prompt1=FewShotPromptTemplate(examples=examples,example_prompt=example_prompt,suffix='question:{input}',input_variables=['input'])"
      ],
      "metadata": {
        "id": "-FMkBjcHx4Va"
      },
      "execution_count": null,
      "outputs": []
    },
    {
      "cell_type": "code",
      "source": [
        "llm_chain1=LLMChain(llm=llm2,prompt=prompt1)"
      ],
      "metadata": {
        "id": "NF0lYofCzAOF"
      },
      "execution_count": null,
      "outputs": []
    },
    {
      "cell_type": "code",
      "source": [
        "question=\"where is lalibela located?\""
      ],
      "metadata": {
        "id": "cx3LRJohzKlI"
      },
      "execution_count": null,
      "outputs": []
    },
    {
      "cell_type": "code",
      "source": [
        "llm_chain1.invoke(question)"
      ],
      "metadata": {
        "colab": {
          "base_uri": "https://localhost:8080/"
        },
        "id": "mvraxpQHzTsP",
        "outputId": "2baa6531-ff59-4ed5-bee5-1319644a6ba3"
      },
      "execution_count": null,
      "outputs": [
        {
          "output_type": "execute_result",
          "data": {
            "text/plain": [
              "{'input': 'where is lalibela located?',\n",
              " 'text': ' Lalibela is a town in Ethiopia that is home to ancient rock-cut churches dating to the 12th century. It is located in the northern part of Ethiopia\\'s Tigray Region, approximately 700 kilometers north of the country\\'s capital, Addis Ababa. Lalibela is considered one of the foremost centers of Ethiopian Christianity and is a significant destination for pilgrimage. The intricate and architecturally impressive churches, carved out of solid rock, draw visitors from around the world and have earned Lalibela the nickname \"New Jerusalem\" or \"African Petra.\" \\n\\nThe site was named after King Lalibela, who is believed to have reigned during the late 12th and early 13th centuries and was considered a saintly king by the Ethiopian Orthodox Church. He is said to have undertaken the construction of the eleven rock-cut churches in response to receiving a vision from God to build a new Jerusalem in Ethiopia. \\n\\nThese churches are grouped into three geographical clusters and each cluster represents a different holy site of importance to Christians: \\n1. Eastern Cluster: Representing Bethlehem and the Holy Land.\\n2. Western Cluster: Representing Sinai and Egypt.\\n3. Southern Cluster: Representing Ethiopia, where King Lalibela proclaimed his imperial throne. \\n\\nThe most impressive'}"
            ]
          },
          "metadata": {},
          "execution_count": 54
        }
      ]
    },
    {
      "cell_type": "code",
      "source": [
        "question2 = \"where is Axum located?\""
      ],
      "metadata": {
        "id": "gi1_DgyJzY7O"
      },
      "execution_count": null,
      "outputs": []
    },
    {
      "cell_type": "code",
      "source": [
        "llm_chain1.invoke(question)"
      ],
      "metadata": {
        "colab": {
          "base_uri": "https://localhost:8080/"
        },
        "id": "jOAdlOBjzus5",
        "outputId": "e3cd81ee-ad81-47ad-bbfd-46cfde90a4e7"
      },
      "execution_count": null,
      "outputs": [
        {
          "output_type": "execute_result",
          "data": {
            "text/plain": [
              "{'input': 'where is lalibela located?',\n",
              " 'text': ' Lalibela is a town in Ethiopia that is located in the northern part of the country in the Amhara Region. It is known for its eleven medieval churches that are carved out of rock. They are now considered a UNESCO World Heritage Site. Would you like to know more about Lalibela or Ethiopia? '}"
            ]
          },
          "metadata": {},
          "execution_count": 56
        }
      ]
    },
    {
      "cell_type": "code",
      "source": [
        "llm_chain1.invoke(question2)"
      ],
      "metadata": {
        "colab": {
          "base_uri": "https://localhost:8080/"
        },
        "id": "f5_yWGv1zx9h",
        "outputId": "4ed60e60-9cd7-4de3-a14e-aa9f8045b8e8"
      },
      "execution_count": null,
      "outputs": [
        {
          "output_type": "execute_result",
          "data": {
            "text/plain": [
              "{'input': 'where is Axum located?',\n",
              " 'text': \" Axum is a city in northern Ethiopia. It is located in the Tigray Region, about 533 kilometers north of Addis Ababa, the nation's capital. It sits at an elevation of 2,131 meters above sea level and is considered one of the country's historical capitals. \\n\\nWould you like to know more about Axum? \"}"
            ]
          },
          "metadata": {},
          "execution_count": 58
        }
      ]
    },
    {
      "cell_type": "markdown",
      "source": [
        "# Sequential Chain"
      ],
      "metadata": {
        "id": "zVFes7qx3-Ay"
      }
    },
    {
      "cell_type": "code",
      "source": [
        "import warnings\n",
        "warnings.filterwarnings('ignore')"
      ],
      "metadata": {
        "id": "NFcqcWmBz8rF"
      },
      "execution_count": null,
      "outputs": []
    },
    {
      "cell_type": "code",
      "source": [
        "from langchain_community.llms import HuggingFaceHub"
      ],
      "metadata": {
        "id": "OMwgR_Nr8X1n"
      },
      "execution_count": null,
      "outputs": []
    },
    {
      "cell_type": "code",
      "source": [
        "Hugging_Face_api_key='----'"
      ],
      "metadata": {
        "id": "YZzc3boX8mmn"
      },
      "execution_count": null,
      "outputs": []
    },
    {
      "cell_type": "code",
      "source": [
        "from getpass import getpass\n",
        "\n",
        "import os\n",
        "HUGGINGFACEHUB_API_TOKEN=getpass()\n",
        "os.environ[\"HUGGINGFACEHUB_API_TOKEN\"]=HUGGINGFACEHUB_API_TOKEN"
      ],
      "metadata": {
        "colab": {
          "base_uri": "https://localhost:8080/"
        },
        "id": "VFjQWkTu7DdF",
        "outputId": "7efe5291-6388-4122-ce58-ca8d1aba6b45"
      },
      "execution_count": null,
      "outputs": [
        {
          "name": "stdout",
          "output_type": "stream",
          "text": [
            "··········\n"
          ]
        }
      ]
    },
    {
      "cell_type": "code",
      "source": [
        "llm_h =HuggingFaceHub(\n",
        "    repo_id=\"HuggingFaceH4/zephyr-7b-beta\",\n",
        "    task='text-generation',\n",
        "    model_kwargs={\"max_new_tokens\":200,\n",
        "                  \"top_k\":7,\n",
        "                  \"temperature\":0.7,\n",
        "                  \"repetition_penalty\":1.02\n",
        "                  }\n",
        ")"
      ],
      "metadata": {
        "id": "nLfEw5YZ7Mu0"
      },
      "execution_count": null,
      "outputs": []
    },
    {
      "cell_type": "markdown",
      "source": [
        "# Chain-1"
      ],
      "metadata": {
        "id": "iN1ztsJK8yMz"
      }
    },
    {
      "cell_type": "code",
      "source": [
        "from langchain.prompts import PromptTemplate\n",
        "from langchain.chains import LLMChain"
      ],
      "metadata": {
        "id": "F604KEf28xab"
      },
      "execution_count": null,
      "outputs": []
    },
    {
      "cell_type": "code",
      "source": [
        "template= \"\"\" you are writer of poem. given any idea you will write a poem about it step by step in /n.\n",
        "Name:{name} Topic:{topic} Note: This is my poem\"\"\""
      ],
      "metadata": {
        "id": "NpGdzyNl8S8e"
      },
      "execution_count": null,
      "outputs": []
    },
    {
      "cell_type": "code",
      "source": [
        "template= \"\"\" you are writer of poem. given any idea you will write a poem about it step by step in /n.\n",
        "Name:{name} Topic:{topic} Note: This is my poem\"\"\"\n",
        "prom_tem =PromptTemplate(input_variables=['name','topic'],template=template)\n",
        "chain1 = LLMChain(llm=llm2,prompt=prom_tem,output_key='summary')"
      ],
      "metadata": {
        "id": "Q8xo1c9M9oab"
      },
      "execution_count": null,
      "outputs": []
    },
    {
      "cell_type": "code",
      "source": [
        "chain1.run(name='Amanuel',topic='love')"
      ],
      "metadata": {
        "colab": {
          "base_uri": "https://localhost:8080/",
          "height": 122
        },
        "collapsed": true,
        "id": "jiRg_7II-NOQ",
        "outputId": "da300569-3a3d-43e8-f521-956b9bac40fa"
      },
      "execution_count": null,
      "outputs": [
        {
          "output_type": "execute_result",
          "data": {
            "text/plain": [
              "\" Sure! Here is a poem about love, following the suggested outline: \\n\\nYou whisper in the winds,\\nCaressing my skin with tender rhymes,\\nYour gentle touch awakens\\nA long-lost yearning in my bones.\\n\\nIn the quiet moments, we find,\\nA world alive with forms of bliss,\\nAnd as we dance among the stars,\\nOur love, it sings, it leaps, it rises. \\n\\nNo more the lonely shades of gray,\\nFor you have brought me to the light,\\nAnd as we journey through the night,\\nOur hearts entwined in harmony. \\n\\nFor in your loving arms, I find,\\nA solace, a comfort, a delight,\\nAnd I know that from this day on,\\nOur love will last, it's strong, it's born. \\n\\nAnd as the seasons come and go,\\nOur love will flourish, it will grow,\\nFor in your eyes, I see reflected,\\nA world of joy, of warmth, of wonder. \\n\\nOur love, a symphony, a song,\\nA journey of the heart so strong,\\nTogether we'll brave life's ups and downs,\\nOur love, our beacon, our celestial crown. \\n\""
            ],
            "application/vnd.google.colaboratory.intrinsic+json": {
              "type": "string"
            }
          },
          "metadata": {},
          "execution_count": 88
        }
      ]
    },
    {
      "cell_type": "markdown",
      "source": [
        "# Chain-2"
      ],
      "metadata": {
        "id": "SLnhzVIm-irY"
      }
    },
    {
      "cell_type": "code",
      "source": [
        "template2 = \"\"\" you are a reviewer about any writings, it is your job to review the writings and put your comments and rate the work based on the strength, creation, uniqueness and rhytm\n",
        ". Reviewer:{summary} review of a poem written:\"\"\"\n",
        "prom_temp2= PromptTemplate(input_variables=['summary'],template=template2)\n",
        "chain2=LLMChain(prompt=prom_temp2,llm=llm2,output_key='review')\n"
      ],
      "metadata": {
        "id": "NHDH75RLAjZZ"
      },
      "execution_count": null,
      "outputs": []
    },
    {
      "cell_type": "code",
      "source": [
        "chain2=LLMChain(prompt=prom_temp2,llm=llm2,output_key='review')"
      ],
      "metadata": {
        "id": "DG7LOaA5AyR2"
      },
      "execution_count": null,
      "outputs": []
    },
    {
      "cell_type": "markdown",
      "source": [
        "# Tie both Chain together"
      ],
      "metadata": {
        "id": "_5NZnTcvBEHZ"
      }
    },
    {
      "cell_type": "code",
      "source": [
        "from langchain.chains import SequentialChain\n",
        "# combining two prompts\n",
        "tied_chain =SequentialChain(chains=[chain1,chain2],input_variables=['name','topic'],output_variables=['summary','review'],verbose=True)"
      ],
      "metadata": {
        "id": "Mq0BYmYtA8jW"
      },
      "execution_count": null,
      "outputs": []
    },
    {
      "cell_type": "code",
      "source": [
        "tied_chain({\"topic\":\"love\",\"name\":\"Amanuel\"})"
      ],
      "metadata": {
        "colab": {
          "base_uri": "https://localhost:8080/"
        },
        "id": "l8yqKo6dFNxe",
        "outputId": "dcc22995-a32b-45cf-a7fc-cd8f5a2d936d"
      },
      "execution_count": null,
      "outputs": [
        {
          "output_type": "stream",
          "name": "stdout",
          "text": [
            "\n",
            "\n",
            "\u001b[1m> Entering new SequentialChain chain...\u001b[0m\n",
            "\n",
            "\u001b[1m> Finished chain.\u001b[0m\n"
          ]
        },
        {
          "output_type": "execute_result",
          "data": {
            "text/plain": [
              "{'topic': 'love',\n",
              " 'name': 'Amanuel',\n",
              " 'summary': ' Sure! Here is a poem about love, following the step-by-step instructions you provided: \\n\\n/n Here is a tale about love, and how love comes to be, \\n/n In the midst of magic and splendour, with passion and grace, \\n/n It is not mere coincidence, nor is it a fleeting emotion, \\n/n For love is a blossom that grows with anticipation. \\n/n You tend to it with care, and your tenderness shows, \\n/n The attention you lend to it helps it to grow, \\n/n And before you realize it, your love is all around, \\n/n Coming back to you in full, with a worth untold. \\n/n So let us raise our glasses to love and all its charm, \\n/n For it is the greatest magic, a joy, a warm song! \\n\\nI hope you enjoyed this poem about love! Is there anything specific you would like me to write about? I would be happy to craft more poems about love or any other topic you wish to explore! \\n\\n\\n',\n",
              " 'review': \" Reviewer: \\n\\n/n Thank you for sharing your poem on the complex and beautiful phenomenon of love. It illustrates love as a process that, when nurtured, can manifest into a magnificent sensation that envelops someone's whole being. I appreciate how you used vivid language to emphasize the intensity of love and its ability to bring tremendous joy. \\n\\nHowever, I suggest focusing on developing more diverse imagery and metaphors throughout the poem. At certain points, the poem seems a bit repetitive in its symbolism, such a blossoming flowers and returning love. Intriguingly, Love is an ever-changing and evolving emotion that has plagued and fulfilled humanity since its inception, so there are literally infinite avenues to elaborate on the nuances and facets that exist within the emotion. \\n\\nAlso, consider tweaking the rhythm pattern spacing and punctuation to enhance the poetic flow. This might involve playing with line breaks and stanza arrangements to diversify the rhythm patterns to create more dynamic iterations. You may also consider pivoting the rhyme scheme to innovatively stray away from the predictable rhyming end sounds to capture different tonal aspects of love and emotion. I hope this helps as a starting point for further enhancements! \\n\\nRate: 8/10! \"}"
            ]
          },
          "metadata": {},
          "execution_count": 104
        }
      ]
    },
    {
      "cell_type": "code",
      "source": [
        "tied_chain({\"topic\":\"love\",\"name\":\"Amanuel\"})['summary']"
      ],
      "metadata": {
        "colab": {
          "base_uri": "https://localhost:8080/",
          "height": 174
        },
        "id": "yQ0nz310Mitn",
        "outputId": "86e2522a-d11b-48fd-b098-9181c6be813d"
      },
      "execution_count": null,
      "outputs": [
        {
          "output_type": "stream",
          "name": "stdout",
          "text": [
            "\n",
            "\n",
            "\u001b[1m> Entering new SequentialChain chain...\u001b[0m\n",
            "\n",
            "\u001b[1m> Finished chain.\u001b[0m\n"
          ]
        },
        {
          "output_type": "execute_result",
          "data": {
            "text/plain": [
              "\" Sure! Here is a poem about love, following the noted guidelines. \\n\\nIt begins with love in the air,\\nA sense of togetherness,\\nSpiritual, powerful, sincere,\\nA beloved emotion that's so dear. \\n\\nIt is a pulling force,\\nA pushing power,\\nNever lukewarm,\\nLike a storm it comes with a shower. \\n\\nIt's a desire so strong,\\nA lustful dance,\\nA connection of two,\\nLike a symphony, it balances. \\n\\nIt can be painful,\\nYet fulfilling,\\nA battlefield,\\nBut like a flower, it can reopen. \\n\\nIs there anything specific you would like expanded on or any other suggestions for prompts? \""
            ],
            "application/vnd.google.colaboratory.intrinsic+json": {
              "type": "string"
            }
          },
          "metadata": {},
          "execution_count": 106
        }
      ]
    },
    {
      "cell_type": "code",
      "source": [
        "tied_chain({\"topic\":\"love\",\"name\":\"Amanuel\"})['review']"
      ],
      "metadata": {
        "colab": {
          "base_uri": "https://localhost:8080/",
          "height": 209
        },
        "id": "WVBZZbblGlRH",
        "outputId": "d87194fe-570e-402e-e8a2-26429da31fbe"
      },
      "execution_count": null,
      "outputs": [
        {
          "output_type": "stream",
          "name": "stdout",
          "text": [
            "\n",
            "\n",
            "\u001b[1m> Entering new SequentialChain chain...\u001b[0m\n",
            "\n",
            "\u001b[1m> Finished chain.\u001b[0m\n"
          ]
        },
        {
          "output_type": "execute_result",
          "data": {
            "text/plain": [
              "' Here is a review of the poem \"An Ode to Love\" with comments on the strength, creation, uniqueness, and rhythm: \\n\\nStrength: The poem captures the multifaceted nature of love beautifully, encompassing themes of enchantment, joy, fragility, and power. Each verse provides a distinct perspective, creating a well-rounded exploration of love\\'s complexities. \\n\\nCreation: The poem progresses in a purposeful manner, introducing new aspects of love gradually. The transition between steps and verses is seamless, ensuring a coherent narrative throughout. \\n\\nUniqueness: The poem offers a fresh perspective on love by presenting an original interpretation of its various dimensions. The metaphor of love as both enchanting and delicate simultaneously is particularly insightful. \\n\\nRhythm: The poem demonstrates a respectful command of rhythm and rhyme, resulting in an expressive and pleasing auditory experience. The deliberate cadence enhances the emotional intimacy of the poem, complementing the tender subject matter. \\n\\nIn conclusion, the review comments praise the poem for its unique exploration of love\\'s complex nature through its clever use of rhythm and metaphors. '"
            ],
            "application/vnd.google.colaboratory.intrinsic+json": {
              "type": "string"
            }
          },
          "metadata": {},
          "execution_count": 105
        }
      ]
    },
    {
      "cell_type": "code",
      "source": [],
      "metadata": {
        "id": "9F6yflbgMbKK"
      },
      "execution_count": null,
      "outputs": []
    }
  ]
}